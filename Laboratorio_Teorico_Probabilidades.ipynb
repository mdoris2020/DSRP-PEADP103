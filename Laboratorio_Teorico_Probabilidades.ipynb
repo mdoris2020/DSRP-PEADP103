{
  "nbformat": 4,
  "nbformat_minor": 0,
  "metadata": {
    "kernelspec": {
      "display_name": "Python 3",
      "language": "python",
      "name": "python3"
    },
    "language_info": {
      "codemirror_mode": {
        "name": "ipython",
        "version": 3
      },
      "file_extension": ".py",
      "mimetype": "text/x-python",
      "name": "python",
      "nbconvert_exporter": "python",
      "pygments_lexer": "ipython3",
      "version": "3.7.3"
    },
    "colab": {
      "name": "Laboratorio Teorico Probabilidades.ipynb",
      "provenance": []
    }
  },
  "cells": [
    {
      "cell_type": "markdown",
      "metadata": {
        "id": "NgH7b25ZPF2d",
        "colab_type": "text"
      },
      "source": [
        "#Cargando librerias principales"
      ]
    },
    {
      "cell_type": "code",
      "metadata": {
        "id": "BXEUB8d0PKfH",
        "colab_type": "code",
        "colab": {}
      },
      "source": [
        "import numpy as np\n",
        "import matplotlib.pyplot as plt\n",
        "from scipy import stats"
      ],
      "execution_count": null,
      "outputs": []
    },
    {
      "cell_type": "markdown",
      "metadata": {
        "id": "OgX9dinwnSX1",
        "colab_type": "text"
      },
      "source": [
        "# Probabilidades"
      ]
    },
    {
      "cell_type": "markdown",
      "metadata": {
        "id": "TvS8t8kenSX3",
        "colab_type": "text"
      },
      "source": [
        "* Experimento aleatorio: es un experimento que realizado bajo las mismas condiciones puede dar resultados diferentes.\n",
        "* Suceso elemental: es cada uno de los posibles resultados del experimento.\n",
        "* Espacio muestral: conjunto ${\\Omega}$ formado por todos los sucesos elementales del experimento aleatorio.\n",
        "\n",
        "Ejemplo:\n",
        "- Experimento aleatorio: Lanzar una moneda.\n",
        "- Suceso elemental: caro (C) o Sello(S)\n",
        "- Espacio muestral: $\\Omega$ = {C,S}"
      ]
    },
    {
      "cell_type": "code",
      "metadata": {
        "id": "_CWyL1oMvph3",
        "colab_type": "code",
        "colab": {}
      },
      "source": [
        "def probabilidad(sample_size, event):\n",
        "    '''Devuelve la probabilidad de un evento dado el evento y el tamaño de la muestra.\n",
        "    El evento puede estar compuesto por un solo elemento O varios elementos (es decir,\n",
        "    una tupla O lista)'''\n",
        "    \n",
        "    if isinstance(event, (list, tuple)):\n",
        "        count = len(event)\n",
        "    else:\n",
        "        count = 1\n",
        "    return count / sample_size\n"
      ],
      "execution_count": null,
      "outputs": []
    },
    {
      "cell_type": "code",
      "metadata": {
        "id": "xqJUI2hZ0PKv",
        "colab_type": "code",
        "colab": {}
      },
      "source": [
        "#Suponiendo que nuestro evento es sacar un 2 en un dado de seis caras\n",
        "probabilidad(sample_size=6, event=2)"
      ],
      "execution_count": null,
      "outputs": []
    },
    {
      "cell_type": "code",
      "metadata": {
        "id": "XFvWs_r0vrbA",
        "colab_type": "code",
        "colab": {}
      },
      "source": [
        "#Suponiendo que nuestro evento es sacar un 4 y 2 en un dado de seis caras\n",
        "probabilidad(sample_size=6, event=[4,2])"
      ],
      "execution_count": null,
      "outputs": []
    },
    {
      "cell_type": "code",
      "metadata": {
        "id": "HJlt6WBcxDyk",
        "colab_type": "code",
        "colab": {}
      },
      "source": [
        "#para simplificar asignamos funcion \"probabilidada\" a \"P\"\n",
        "P=probabilidad"
      ],
      "execution_count": null,
      "outputs": []
    },
    {
      "cell_type": "markdown",
      "metadata": {
        "id": "L82qSh2XCj_t",
        "colab_type": "text"
      },
      "source": [
        "¿Cuál es la probabilidad de sacar más de un 5 en un d10 o sacar un número par?\n",
        "\n",
        "$\\large P(A \\ \\cup \\ B) = \\frac{n(A) \\ + \\ n(B) \\ - \\ n(A \\cap B)}{n(S)}$\\\n",
        "$\\large P(A \\ \\cup \\ B) = \\frac{5 \\ + \\ 5 \\ - \\ 3}{10} = \\frac{7}{10}$\\\n",
        "$\\large P(A \\ \\cup \\ B) = 0.7$"
      ]
    },
    {
      "cell_type": "code",
      "metadata": {
        "id": "t6Swea_UxJtQ",
        "colab_type": "code",
        "colab": {}
      },
      "source": [
        "answer = P(10, [6, 7, 8, 9, 10]) + P(10, [2, 4, 6, 8, 10]) - P(10, [6, 8, 10])\n",
        "print(answer)"
      ],
      "execution_count": null,
      "outputs": []
    },
    {
      "cell_type": "markdown",
      "metadata": {
        "id": "acHdKBESDCng",
        "colab_type": "text"
      },
      "source": [
        "\n",
        "¿Cuál es la probabilidad de sacar una carta roja de un mazo estándar O sacar un Rey?\n",
        "\n",
        "Como puede imaginar, esto se vuelve problemático a medida que crece el tamaño de nuestra muestra"
      ]
    },
    {
      "cell_type": "code",
      "metadata": {
        "id": "H_mBaC7VDD57",
        "colab_type": "code",
        "colab": {}
      },
      "source": [
        "#answer = P(52, ['AD', '2D', '3D', '4D', ...]) + P(52, ['KS', 'KC', 'KD', 'KH']) - P(52, ['KD', 'KH'])\n",
        "#print(answer)"
      ],
      "execution_count": null,
      "outputs": []
    },
    {
      "cell_type": "code",
      "metadata": {
        "id": "qZd691MdHC6z",
        "colab_type": "code",
        "colab": {}
      },
      "source": [
        "def probabilidad(sample_size, event=None, event_size=None):\n",
        "    '''Devuelve la probabilidad de un evento dado el evento y el tamaño de la muestra.\n",
        "    \n",
        "    evento: el argumento del evento puede estar compuesto por\n",
        "    * varios elementos (es decir, una tupla O lista) (que luego se cuentan) O\n",
        "    * un solo elemento que se equipara internamente a una cuenta de uno\n",
        "    \n",
        "    event_size: como alternativa a proporcionar un evento, simplemente puede proporcionar su propio recuento usando\n",
        "    el argumento event_size:\n",
        "    * un número entero que representa el número de elementos de un evento.\n",
        "    \n",
        "    Solo se debe proporcionar uno de estos dos (evento O event_size).\n",
        "    '''\n",
        "        \n",
        "    if isinstance(event, (list, tuple)):\n",
        "        count = len(event)\n",
        "    elif isinstance(event_size, int):\n",
        "        count = event_size\n",
        "    else:\n",
        "        count = 1\n",
        "    return count / sample_size\n",
        "\n",
        "# Nuevamente, proporcionemos un alias para nuestra función de probabilidad\n",
        "P = probabilidad"
      ],
      "execution_count": null,
      "outputs": []
    },
    {
      "cell_type": "code",
      "metadata": {
        "id": "AA97mKmnHXWP",
        "colab_type": "code",
        "colab": {}
      },
      "source": [
        "# carta roja o rey\n",
        "\n",
        "answer = P(52, event_size=26) + P(52, event_size=4) - P(52, event_size=2)\n",
        "print(answer)"
      ],
      "execution_count": null,
      "outputs": []
    },
    {
      "cell_type": "code",
      "metadata": {
        "id": "Px11IxguH4r2",
        "colab_type": "code",
        "colab": {}
      },
      "source": [
        "print('P(roja)', P(52, event_size=26))\n",
        "print('P(rey)', P(52, event_size=4))\n",
        "print('P(rey rojo)', P(52, event_size=2))"
      ],
      "execution_count": null,
      "outputs": []
    },
    {
      "cell_type": "markdown",
      "metadata": {
        "id": "-062O1_qIFB6",
        "colab_type": "text"
      },
      "source": [
        "\n",
        "¿Cuál es la probabilidad de sacar una carta roja de un mazo estándar O sacar una figura (Rey, Reina, Jack)?"
      ]
    },
    {
      "cell_type": "code",
      "metadata": {
        "id": "EgwHgfOoIHB0",
        "colab_type": "code",
        "colab": {}
      },
      "source": [
        "answer = P(52, event_size=26) + P(52, event_size=12) - P(52, event_size=6)\n",
        "print(answer)"
      ],
      "execution_count": null,
      "outputs": []
    },
    {
      "cell_type": "code",
      "metadata": {
        "id": "nD4w9f1aITiP",
        "colab_type": "code",
        "colab": {}
      },
      "source": [
        "#Si el problema es lo suficientemente simple como para hacer \n",
        "#la aritmética en su cabeza, entonces eso también está bien:\n",
        "\n",
        "# 26 + 12 - 6 = 32\n",
        "\n",
        "P(52, event_size=32)"
      ],
      "execution_count": null,
      "outputs": []
    },
    {
      "cell_type": "markdown",
      "metadata": {
        "id": "cL5YkkgRdGnS",
        "colab_type": "text"
      },
      "source": [
        "## Condicional"
      ]
    },
    {
      "cell_type": "markdown",
      "metadata": {
        "id": "CVpyXm35d11k",
        "colab_type": "text"
      },
      "source": [
        "Otro nivel de comprensión de la probabilidad es poder evaluar la probabilidad de un evento dada alguna otra condición.\n",
        "\n",
        "¿Cuál es la probabilidad de que una carta dada sea un rey si sabes que es negra?\n",
        "¿Cuál es la probabilidad de que saques un 10 si sabes que el número obtenido fue par?"
      ]
    },
    {
      "cell_type": "markdown",
      "metadata": {
        "id": "ROMPRx5F6CF3",
        "colab_type": "text"
      },
      "source": [
        "En este caso, creamos un árbol de probabilidad que tiene dos niveles de ramas.\n",
        "\n",
        "El primer nivel (a la izquierda) muestra la probabilidad de que una carta dada sea Roja o Negra\n",
        "El segundo nivel (a la derecha) muestra las probabilidades de que una carta sea Rey o No Rey para cada rama del primer nivel.\n",
        "NOTA: aquí, cada conjunto de ramas de nivel es binario (con solo dos ramas (es decir, rojo / negro)) pero los niveles podrían tener más opciones.\n",
        "\n",
        "Por ejemplo, los cuadrados de una mesa de ruleta pueden ser rojos, negros y verdes."
      ]
    },
    {
      "cell_type": "markdown",
      "metadata": {
        "id": "CMl1JFlz6HF6",
        "colab_type": "text"
      },
      "source": [
        "![probtree_black_king.jpg](data:image/jpeg;base64,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)"
      ]
    },
    {
      "cell_type": "markdown",
      "metadata": {
        "id": "4ldzFSVR6UfG",
        "colab_type": "text"
      },
      "source": [
        "Para resolver la probabilidad total en cualquier rama, multiplicamos la probabilidad del primer nivel de una rama extendida por la probabilidad del segundo nivel de esa rama. Por ejemplo, si queremos determinar la probabilidad de que una carta sea Rey y Negra:\n",
        "\n",
        "$\\Large \\frac{26}{52} \\times \\frac{2}{26} = 0.03846$\n",
        "\n",
        "Podemos probar esto usando nuestra fórmula de probabilidad:"
      ]
    },
    {
      "cell_type": "code",
      "metadata": {
        "id": "j0rEWFL16UIC",
        "colab_type": "code",
        "colab": {}
      },
      "source": [
        "P(52, event_size=26) * P(26, event_size=2)"
      ],
      "execution_count": null,
      "outputs": []
    },
    {
      "cell_type": "markdown",
      "metadata": {
        "id": "1mFDCgs-6mwj",
        "colab_type": "text"
      },
      "source": [
        "\n",
        "Las otras ramas se desarrollan de manera similar:\n",
        "\n",
        "Negro y no un rey: $\\Large \\frac{26}{52} \\times \\frac{24}{26} = 0.46153$\n",
        "\n",
        "Rojo y rey: $\\Large \\frac{26}{52} \\times \\frac{2}{26} = 0.03846$ \\\n",
        "Rojo y no un rey:$\\Large \\frac{26}{52} \\times \\frac{24}{26} = 0.46153$ \\\n",
        "La suma de las probabilidades para cualquier conjunto de ramas es siempre 1.0 (teniendo en cuenta los errores de redondeo).\n"
      ]
    },
    {
      "cell_type": "code",
      "metadata": {
        "id": "3RGiJOuh6Gdo",
        "colab_type": "code",
        "colab": {}
      },
      "source": [
        "round(sum([0.03846, 0.46153, 0.03846, 0.46153]), 3)"
      ],
      "execution_count": null,
      "outputs": []
    },
    {
      "cell_type": "code",
      "metadata": {
        "id": "UYoZqUZDdLqm",
        "colab_type": "code",
        "colab": {}
      },
      "source": [
        ""
      ],
      "execution_count": null,
      "outputs": []
    },
    {
      "cell_type": "markdown",
      "metadata": {
        "id": "24iOPqgknSX8",
        "colab_type": "text"
      },
      "source": [
        "## Valor Esperado o Esperanza:\n",
        "El valor esperado o esperanza de una variable aleatoria discreta indica el valor promedio al que tiende la variable cuando\n",
        "el numero de ensayos del experimento tiende a infinito. Se define como:\n",
        "\n",
        "$E(X) = \\sum x * f(x)$\n",
        "\n",
        "$E(X) = \\mu$"
      ]
    },
    {
      "cell_type": "code",
      "metadata": {
        "id": "V7JqFezL-aJj",
        "colab_type": "code",
        "colab": {}
      },
      "source": [
        "# Funcionque calcula expectation \n",
        "def calc_Expectation(a, n): \n",
        "      \n",
        "    # la variable prb es para probabilidad\n",
        "    # de cada elemento que es el mismo para\n",
        "    # cada elemento\n",
        "    prb = 1 / n \n",
        "      \n",
        "    # calculando la expectativa general \n",
        "    sum = 0\n",
        "    for i in range(0, n): \n",
        "        sum += (a[i] * prb)  \n",
        "          \n",
        "    # devolviendo la expectativa como suma\n",
        "    return float(sum) \n",
        "  \n",
        "  \n",
        "n = 6; \n",
        "a = [ 1.0, 2.0, 3.0,4.0, 5.0, 6.0 ] \n",
        "  \n",
        "# Función para calcular la expectativa\n",
        "expect = calc_Expectation(a, n) \n",
        "  \n",
        "# Mostrar la expectativa de una matriz dada\n",
        "print( \"Expectativa de matriz E(X) es : \", \n",
        "                                 expect ) \n"
      ],
      "execution_count": null,
      "outputs": []
    },
    {
      "cell_type": "markdown",
      "metadata": {
        "id": "nHsqtruQOptz",
        "colab_type": "text"
      },
      "source": [
        "# Graficando Distribuciones"
      ]
    },
    {
      "cell_type": "markdown",
      "metadata": {
        "id": "uycFKxr-Oxph",
        "colab_type": "text"
      },
      "source": [
        "### Histogramas"
      ]
    },
    {
      "cell_type": "markdown",
      "metadata": {
        "id": "MdrL41QaO7Hk",
        "colab_type": "text"
      },
      "source": [
        "Una de las mejores maneras de describir una variable es representar los valores que aparecen en el conjunto de datos y el número de veces que aparece cada valor. La representación más común de una distribución es un histograma, que es un gráfico que muestra la frecuencia de cada valor."
      ]
    },
    {
      "cell_type": "code",
      "metadata": {
        "id": "7XthO42zOo3A",
        "colab_type": "code",
        "colab": {}
      },
      "source": [
        "mu, sigma=0,0.2\n",
        "\n",
        "data= np.random.normal(mu, sigma,1000)\n",
        "\n",
        "plt.hist(data,10)\n",
        "plt.ylabel('frequencia')\n",
        "plt.xlabel('valores')\n",
        "plt.title('Histograma')\n",
        "plt.show()"
      ],
      "execution_count": null,
      "outputs": []
    },
    {
      "cell_type": "markdown",
      "metadata": {
        "id": "AURgDiuyWAWW",
        "colab_type": "text"
      },
      "source": [
        "### Función de Masa de Probabilidad"
      ]
    },
    {
      "cell_type": "markdown",
      "metadata": {
        "id": "bzDPBelpWJ6J",
        "colab_type": "text"
      },
      "source": [
        "Otra forma de representar a las distribuciones discretas es utilizando su Función de Masa de Probabilidad o FMP, la cual relaciona cada valor con su probabilidad en lugar de su frecuencia como vimos anteriormente. Esta función es normalizada de forma tal que el valor total de probabilidad sea 1. La ventaja que nos ofrece utilizar la FMP es que podemos comparar dos distribuciones sin necesidad de ser confundidos por las diferencias en el tamaño de las muestras. **Funciona bien si el número de valores es pequeño**."
      ]
    },
    {
      "cell_type": "code",
      "metadata": {
        "id": "9CLZnZT5V_ms",
        "colab_type": "code",
        "colab": {}
      },
      "source": [
        "n,p=30,0.4 #parametros de forma de distribucion bonomial\n",
        "n_1, p_1=20, 0.3\n",
        "\n",
        "x = np.arange(stats.binom.ppf(0.01, n, p),\n",
        "              stats.binom.ppf(0.99, n, p))\n",
        "x_1 = np.arange(stats.binom.ppf(0.01, n_1, p_1),\n",
        "              stats.binom.ppf(0.99, n_1, p_1))\n",
        "\n",
        "#Funcion de masa de probabilidad\n",
        "fmp=stats.binom.pmf(x,n,p)\n",
        "fmp_1=stats.binom.pmf(x_1,n_1,p_1)\n",
        "\n",
        "plt.plot(x,fmp,'--')\n",
        "plt.plot(x_1,fmp_1)\n",
        "\n",
        "plt.vlines(x,0,fmp)\n",
        "plt.vlines(x_1,0,fmp_1,alpha=0.5,colors='g')\n",
        "\n",
        "plt.title('Fncion de masa de probabilidiad')\n",
        "plt.ylabel('probabilidad')\n",
        "plt.xlabel('valores')\n",
        "plt.show()"
      ],
      "execution_count": null,
      "outputs": []
    },
    {
      "cell_type": "markdown",
      "metadata": {
        "id": "qbUIbEd1jOl-",
        "colab_type": "text"
      },
      "source": [
        "### Funcion de Distribucion Acumulada"
      ]
    },
    {
      "cell_type": "markdown",
      "metadata": {
        "id": "wvMfxLAgaybh",
        "colab_type": "text"
      },
      "source": [
        "Si queremos evitar los problemas que se generan con FMP cuando el número de valores es muy grande, podemos recurrir a utilizar la Función de Distribución Acumulada o FDA, para representar a nuestras distribuciones, tanto discretas como continuas. Esta función relaciona los valores con su correspondiente percentil"
      ]
    },
    {
      "cell_type": "code",
      "metadata": {
        "id": "tQh_6-7ibNv0",
        "colab_type": "code",
        "colab": {}
      },
      "source": [
        "\n",
        "x_1=np.linspace(stats.norm(10,1.2).ppf(0.01),\n",
        "                stats.norm(10,1.2).ppf(0.99),100)\n",
        "                \n",
        "fda_binom=stats.binom.cdf(x,n,p)\n",
        "fda_normal=stats.norm(10,1.2).cdf(x_1)\n",
        "\n",
        "plt.plot(x, fda_binom, '--', label='FDA binomial')\n",
        "plt.plot(x_1,fda_normal,label='FDA normal')\n",
        "plt.title('Funcion de distribucion acumulada')\n",
        "plt.ylabel('probabilidad')\n",
        "plt.xlabel('valores')\n",
        "plt.legend(loc=0)\n",
        "plt.show()"
      ],
      "execution_count": null,
      "outputs": []
    },
    {
      "cell_type": "markdown",
      "metadata": {
        "id": "It46dK6asLKb",
        "colab_type": "text"
      },
      "source": [
        "### Función de Densidad de Probabilidad"
      ]
    },
    {
      "cell_type": "markdown",
      "metadata": {
        "id": "IC_f1UattUjp",
        "colab_type": "text"
      },
      "source": [
        "el equivalente a la FMP para distribuciones continuas es la Función de Densidad de Probabilidad o FDP. Esta función es la derivada de la Función de Distribución Acumulada."
      ]
    },
    {
      "cell_type": "code",
      "metadata": {
        "id": "HlC7puZ-tbon",
        "colab_type": "code",
        "colab": {}
      },
      "source": [
        "FDP_normal = stats.norm(10, 1.2).pdf(x_1) # FDP\n",
        "plt.plot(x_1, FDP_normal, label='FDP nomal')\n",
        "plt.title('Función de Densidad de Probabilidad')\n",
        "plt.ylabel('probabilidad')\n",
        "plt.xlabel('valores')\n",
        "plt.show()"
      ],
      "execution_count": null,
      "outputs": []
    },
    {
      "cell_type": "markdown",
      "metadata": {
        "id": "WERf_aJvnSX9",
        "colab_type": "text"
      },
      "source": [
        "# Distribuciones de Probabilidad Discreta\n",
        "\n",
        "La probabilidad de distribución de una variable aleatoria $X$ describe como las probabilidades son asignadas para cada resultado de la variable aleatoria"
      ]
    },
    {
      "cell_type": "markdown",
      "metadata": {
        "id": "dN-ZFo-YnSX-",
        "colab_type": "text"
      },
      "source": [
        "La probabilidad de cada resultado es descrito por una funcion de probabilidad (densidad) denotado como $P(x)$."
      ]
    },
    {
      "cell_type": "code",
      "metadata": {
        "id": "ulOuPRB82_5p",
        "colab_type": "code",
        "colab": {}
      },
      "source": [
        "from google.colab import files\n",
        "uploaded = files.upload()"
      ],
      "execution_count": null,
      "outputs": []
    },
    {
      "cell_type": "code",
      "metadata": {
        "scrolled": true,
        "id": "M6jujrconSX_",
        "colab_type": "code",
        "colab": {}
      },
      "source": [
        "import pandas as pd\n",
        "import numpy as np\n",
        "import matplotlib.pyplot as plt\n",
        "df = pd.read_excel('v_discreta.xlsx')"
      ],
      "execution_count": null,
      "outputs": []
    },
    {
      "cell_type": "code",
      "metadata": {
        "id": "IRsZjfDknSYH",
        "colab_type": "code",
        "colab": {}
      },
      "source": [
        "dado_df = df.query('flag == \"dado\" ')[['x','P(x)']]\n",
        "dado_df"
      ],
      "execution_count": null,
      "outputs": []
    },
    {
      "cell_type": "markdown",
      "metadata": {
        "id": "PIYF9fu_nSYP",
        "colab_type": "text"
      },
      "source": [
        "¿ Cual sería la probabilidad de obtener un 2 o 5 en un lanzamiento? \n",
        "\n",
        "x = 2,5\n",
        "\n",
        "**P(x) = 0.166667 + 0.166667 = 0.333334**"
      ]
    },
    {
      "cell_type": "markdown",
      "metadata": {
        "id": "KGUtjvu7nSYQ",
        "colab_type": "text"
      },
      "source": [
        "Condiciones para probabilidades discretas:\n",
        "1. 0 <= P(x) <= 1\n",
        "2. $\\sum$ P(x) = 1"
      ]
    },
    {
      "cell_type": "markdown",
      "metadata": {
        "id": "aksk4ICknSYR",
        "colab_type": "text"
      },
      "source": [
        "Supongamos que realizamos una encuesta para medir la satisfaccion del cliente respecto a uno de nuestros servicios siendo\n",
        "teniendo como escala (1 = muy insatisfecho, 2 = insatisfecho, 3 = neutral, 4 = satisfecho, 5 = muy satisfecho). ¿Cual seria\n",
        "el valor esperado o promedio?"
      ]
    },
    {
      "cell_type": "code",
      "metadata": {
        "id": "Dx-v3EA9nSYS",
        "colab_type": "code",
        "colab": {}
      },
      "source": [
        "satisfaccion_df = df.query('flag == \"satisfaccion\" ')[['x','Count','P(x)', 'xP(x)']]\n",
        "satisfaccion_df"
      ],
      "execution_count": null,
      "outputs": []
    },
    {
      "cell_type": "code",
      "metadata": {
        "id": "QZvMiojTnSYY",
        "colab_type": "code",
        "colab": {}
      },
      "source": [
        "expected_value = satisfaccion_df['xP(x)'].sum()\n",
        "print(f'El valor esperado seria: {expected_value}')"
      ],
      "execution_count": null,
      "outputs": []
    },
    {
      "cell_type": "markdown",
      "metadata": {
        "id": "qFhBAS4enSYg",
        "colab_type": "text"
      },
      "source": [
        "## Varianza de una variable aleatoria discreta\n",
        "\n",
        "Podemos usar la varianza y desviacion estandar de una variable aleatoria discreta para ver que tan dispersa es con respecto a su media.\n",
        "\n",
        "La formula es la siguiente: \n",
        "\n",
        "$Var(x) = \\sum (x-\\mu)^2 * P(x)$"
      ]
    },
    {
      "cell_type": "markdown",
      "metadata": {
        "id": "3Js0poZMnSYh",
        "colab_type": "text"
      },
      "source": [
        "Por ejemplo analicemos la varianza cuando lanzamos un dado."
      ]
    },
    {
      "cell_type": "code",
      "metadata": {
        "id": "VF0CpMLUnSYi",
        "colab_type": "code",
        "colab": {}
      },
      "source": [
        "print('Tenemos el cuadro paso a paso como calculamos la varianza')\n",
        "var_dado_df = df.query('flag == \"dado\" ')[['x','P(x)','E(x)', 'x-E(x)', '(x-E(x))^2', '((x-E(x))^2) * P(x)']]\n",
        "var_dado_df"
      ],
      "execution_count": null,
      "outputs": []
    },
    {
      "cell_type": "code",
      "metadata": {
        "id": "NP75M4xmnSYn",
        "colab_type": "code",
        "colab": {}
      },
      "source": [
        "var_dado_df['P(x)'].plot(kind=\"bar\")\n",
        "plt.show()"
      ],
      "execution_count": null,
      "outputs": []
    },
    {
      "cell_type": "code",
      "metadata": {
        "id": "Ag6p066unSYv",
        "colab_type": "code",
        "colab": {}
      },
      "source": [
        "var = var_dado_df['((x-E(x))^2) * P(x)'].sum()\n",
        "sd = np.power(var,0.5)\n",
        "print(f'La varianza es de: {var} ')\n",
        "print(f'La desviacion estandar es de: {sd}')\n",
        "print('\\nSomos capaces de afirmar que los 4/6 o 2/3 o 67% de los resultados estan entre +1 o -1 desviacion estandar con respecto de la media')"
      ],
      "execution_count": null,
      "outputs": []
    },
    {
      "cell_type": "markdown",
      "metadata": {
        "id": "5y2addaEnSYz",
        "colab_type": "text"
      },
      "source": [
        "## Distribucion Binomial\n",
        "\n",
        "Un experimento binomial, presenta las siguientes caracteristicas:\n",
        "\n",
        "1. El proceso consiste en una secuencia de $\"n\"$ experimentos.\n",
        "2. Solo se puede obtener dos resultados (exito o fracaso) en cada prueba.\n",
        "3. La probabilidad de exito es denotada por $\"p\"$ y la probabilidad de fracaso es $q = 1-p$.\n",
        "4. Los experimentos son independientes, el resultado de la prueba anterior no influye sobre el siguiente.\n",
        "\n",
        "En resumen si $X$ es una variable aleatoria que mide el numer de \"exitos\" y se realizan $\"n\"$ experimentos de Bernoulli independientes entre si, diremos que X se distribuye como una Binomial con parametros $n$ y $p$.\n",
        "\n",
        "<center> $\\large X$ ~ $\\large B_{(n,p)}$ </center>\n",
        "\n",
        "El dominio de X sera: {1,2,3,4,5,6,....n}\n",
        "\n",
        "La funcion de densidad o probabilidad será: $\\large f(k) = C_{(n,k)} * p^{k} * (1-p)^{(n-k)}$\n",
        "\n",
        "Esperanza o valor esperado: $\\large E(X) = n * p$\n",
        "\n",
        "Varianza: $\\large V(X) = n*p*q$"
      ]
    },
    {
      "cell_type": "code",
      "metadata": {
        "id": "ETEhHknFnSY0",
        "colab_type": "code",
        "colab": {}
      },
      "source": [
        "import numpy as np\n",
        "import pandas as pd\n",
        "import matplotlib.pyplot as plt\n",
        "from scipy.stats import poisson\n",
        "from scipy.stats import binom"
      ],
      "execution_count": null,
      "outputs": []
    },
    {
      "cell_type": "code",
      "metadata": {
        "id": "-riU2L--nSY4",
        "colab_type": "code",
        "colab": {}
      },
      "source": [
        "n = 7\n",
        "p = 0.4\n",
        "mean, var, skew, kurt = binom.stats(n, p, moments = 'mvsk')\n",
        "\n",
        "x = np.arange(0,7)\n",
        "print('Probability: ', binom.pmf(x, n, p))\n",
        "print('Cumulative: ', binom.cdf(x,n,p))\n",
        "\n",
        "plt.figure(1, figsize = (10,4))\n",
        "plt.subplot(121)\n",
        "plt.plot(x, binom.pmf(x, n, p), 'bo', ms = 8)\n",
        "plt.vlines(x, 0, binom.pmf(x,n,p), color = 'b', lw=4, alpha = 0.5)\n",
        "plt.title(\"Funcion de densidad de B(7, 0.4)\")\n",
        "\n",
        "plt.subplot(122)\n",
        "plt.plot(x, binom.cdf(x, n, p), 'bo', ms = 8)\n",
        "plt.title(\"Funcion de distribucion de B(7, 0.4)\")\n",
        "\n",
        "plt.show()"
      ],
      "execution_count": null,
      "outputs": []
    },
    {
      "cell_type": "markdown",
      "metadata": {
        "id": "wUjFD4MjnSZA",
        "colab_type": "text"
      },
      "source": [
        "## Ejemplo:\n",
        "Un empleado esta desarrollando un producto con una tasa de  error del 20%. Si selecciona 5 productos aleatorios al final de la linea de ensamblaje. ¿Cual es la probabilidad de tener uno defectuoso?"
      ]
    },
    {
      "cell_type": "code",
      "metadata": {
        "id": "TzQNh0dOnSZA",
        "colab_type": "code",
        "colab": {}
      },
      "source": [
        "n = 5\n",
        "p = 0.2 \n",
        "mean, var, skew, kurt = binom.stats(n, p, moments = 'mvsk')\n",
        "x = np.arange(0,5)\n",
        "print('Las probabilidades son:', binom.pmf(x, n, p))\n",
        "print('La media es: ', mean)\n",
        "print('La desviacion estandar es: ', np.power(var,0.5))\n",
        "\n",
        "plt.figure(1, figsize = (10,4))\n",
        "plt.subplot(121)\n",
        "plt.plot(x, binom.pmf(x, n, p), 'bo', ms = 8)\n",
        "plt.vlines(x, 0, binom.pmf(x,n,p), color = 'b', lw=4, alpha = 0.5)\n",
        "plt.title(\"Funcion de densidad de B(5, 0.2)\")\n",
        "\n",
        "plt.subplot(122)\n",
        "plt.plot(x, binom.cdf(x, n, p), 'bo', ms = 8)\n",
        "plt.title(\"Funcion de distribucion de B(5, 0.2)\")\n",
        "\n",
        "print('\\n Según el gráfico vemos que la probabilidad de obtener al menos un equipo defectuoso es de 0.4096.')"
      ],
      "execution_count": null,
      "outputs": []
    },
    {
      "cell_type": "markdown",
      "metadata": {
        "id": "0-newW0PnSZF",
        "colab_type": "text"
      },
      "source": [
        "## Distribucion de Poisson "
      ]
    },
    {
      "cell_type": "markdown",
      "metadata": {
        "id": "4I34UMbxnSZF",
        "colab_type": "text"
      },
      "source": [
        "Se enfoca sobre un numero discreto de eventos/experimentos en un intervalo especifico o continuo (tiempo, distancia, tamaño, etc).\n",
        "\n",
        "$\\large P(X) =$ $\\LARGE \\frac{\\lambda^{x} * e^{-\\lambda}}{x!}$"
      ]
    },
    {
      "cell_type": "markdown",
      "metadata": {
        "id": "_Ifd9FTfnSZH",
        "colab_type": "text"
      },
      "source": [
        "## Caracteristicas de la Distribucion\n",
        "\n",
        "1. Resultado (outcome) discreto (x = 1,2,3,4,...)\n",
        "2. El numero de eventos en cada intervalo puede tener un rango de 0 a infinito (teoricamente).\n",
        "3. Describe la distribucion de eventos poco frecuentes\n",
        "4. Cada evento es independiente de los demas eventos.\n",
        "5. Describe eventos discreto sobre un intervalo (tiempo, distancia, etc).\n",
        "6. El valor esperado E(X) será asumido como constante durante el experimento."
      ]
    },
    {
      "cell_type": "markdown",
      "metadata": {
        "id": "e3MdpVaznSZJ",
        "colab_type": "text"
      },
      "source": [
        "## Ejemplo 1:\n",
        "Un banco esta interesado en estudiar el numero de personas que usa ATM's localizados fuera de sus oficinas por la noche.\n",
        "\n",
        "En promedio 1.6 clientes utilizan los ATM's cada 10 minutos entre las 9 y 12 de la noche. Con esta información puede indicarnos:\n",
        "\n",
        "1. ¿Cual es lambda para este problema?\n",
        "2. ¿Cual es la probabilidad que exactamente 3 clientes usen los ATM's en un intervalo de 10 minutos?\n",
        "3. ¿Cual es la probabilidad que 3 o menos clientes usen lso ATM's en el mismo intervalo?"
      ]
    },
    {
      "cell_type": "code",
      "metadata": {
        "id": "HccUCuhqnSZK",
        "colab_type": "code",
        "colab": {}
      },
      "source": [
        "plt.figure(1, figsize=(15,4))\n",
        "\n",
        "_lambda = 1.6\n",
        "mean, var, skew, kurt = poisson.stats(_lambda, moments='mvsk')\n",
        "print('La media es: ',mean)\n",
        "print('La varianza es: ', var)\n",
        "print('El sesgo es: ', skew)\n",
        "print('La curtosis es:', kurt)\n",
        "\n",
        "x = np.arange(0,15)\n",
        "pmf = poisson.pmf(x,_lambda)\n",
        "cdf = poisson.cdf(x,_lambda)\n",
        "\n",
        "plt.subplot(121)\n",
        "plt.bar(x,pmf)\n",
        "plt.xlabel('# Clientes')\n",
        "plt.ylabel('Probabilidad')\n",
        "plt.title('Funcion de Probabilidad')\n",
        "\n",
        "plt.subplot(122)\n",
        "plt.scatter(x,cdf)\n",
        "plt.xlabel('# Clientes')\n",
        "plt.ylabel('Probabilidad')\n",
        "plt.title('Funcion de Distribucion')\n",
        "\n",
        "plt.show()"
      ],
      "execution_count": null,
      "outputs": []
    },
    {
      "cell_type": "markdown",
      "metadata": {
        "colab_type": "text",
        "id": "IaTTp1625fTt"
      },
      "source": [
        "## Distribucion de Bernoulli "
      ]
    },
    {
      "cell_type": "markdown",
      "metadata": {
        "id": "tPspt4wK_Gze",
        "colab_type": "text"
      },
      "source": [
        "\n",
        "\n",
        ">$ p(r;p) = \\left \\{ \n",
        "\\begin{matrix} \n",
        "1-p=q & \\mbox{si }\\mbox{ r=0 (fracaso)}\n",
        "\\\\ p & \\mbox{si }\\mbox{ r=1 (éxito)}\n",
        "\\end{matrix}\\right.  $\n",
        "\n",
        "donde:\n",
        "a y b  no son por lo general importantes porque no afectan el valor de las integralessi de $f(x)dx$ sobre el intervalo.\n",
        "Hay muchos ejemplos de distribución de Bernoulli, como si va a llover mañana o no, donde la lluvia denota éxito y la ausencia de lluvia denota fracaso y Ganar (éxito) o perder (fracaso) el juego.\n"
      ]
    },
    {
      "cell_type": "markdown",
      "metadata": {
        "id": "j-NtaFm5jPIH",
        "colab_type": "text"
      },
      "source": [
        "Una distribución de Bernoulli tiene solo dos resultados posibles, a saber, 1 (éxito) y 0 (fracaso), y una única prueba, por ejemplo, un lanzamiento de moneda.\n",
        "La distribución de Bernoulli es un caso especial de la distribución binomial donde se realiza un solo ensayo (n = 1). El argumento del tamaño decide el número de veces que se repiten los ensayos.\n",
        "Generación de la distribución de Bernoulli usando el método bernoulli.rvs () del módulo scipy.stats y trazando el histograma de la distribución usando distplot () de la biblioteca seaborn"
      ]
    },
    {
      "cell_type": "code",
      "metadata": {
        "id": "mXedSUVE3uxm",
        "colab_type": "code",
        "colab": {}
      },
      "source": [
        "from scipy import stats\n",
        "import seaborn as sns\n",
        "# Graficando Bernoulli\n",
        "p =  0.5 # parametro de forma \n",
        "bernoulli = stats.bernoulli(p)\n",
        "x = np.arange(-1, 3)\n",
        "fmp = bernoulli.pmf(x) # Función de Masa de Probabilidad\n",
        "fig, ax = plt.subplots()\n",
        "ax.plot(x, fmp, 'bo')\n",
        "ax.vlines(x, 0, fmp, colors='b', lw=5, alpha=0.5)\n",
        "ax.set_yticks([0., 0.2, 0.4, 0.6])\n",
        "plt.title('Distribución Bernoulli')\n",
        "plt.ylabel('probabilidad')\n",
        "plt.xlabel('valores')\n",
        "plt.show()"
      ],
      "execution_count": null,
      "outputs": []
    },
    {
      "cell_type": "markdown",
      "metadata": {
        "id": "ir7PILhUhgdV",
        "colab_type": "text"
      },
      "source": [
        "## Ejemplo:"
      ]
    },
    {
      "cell_type": "code",
      "metadata": {
        "id": "XB833L8PhjE-",
        "colab_type": "code",
        "colab": {}
      },
      "source": [
        "bernoulli_dist =stats.bernoulli.rvs(p=0.8,size=10000)\n",
        "\n",
        "bernoulli_dist_plot = sns.distplot(bernoulli_dist ,\n",
        "                  bins=30,\n",
        "                  kde=False,\n",
        "                  color='skyblue',\n",
        "                  hist_kws={\"linewidth\": 15,'alpha':1})\n",
        "\n",
        "bernoulli_dist_plot.set(xlabel='Bernoulli Distribution', ylabel='Frequency')"
      ],
      "execution_count": null,
      "outputs": []
    },
    {
      "cell_type": "markdown",
      "metadata": {
        "colab_type": "text",
        "id": "vWrc_Y0itVvb"
      },
      "source": [
        "# **Distribuciones Continuas**"
      ]
    },
    {
      "cell_type": "markdown",
      "metadata": {
        "id": "tnKjW44DWMnJ",
        "colab_type": "text"
      },
      "source": [
        "## Distribución de Normal (Distribucióón de Gauss)"
      ]
    },
    {
      "cell_type": "markdown",
      "metadata": {
        "id": "FI2A5TymXXqV",
        "colab_type": "text"
      },
      "source": [
        ">$p(x;\\mu, \\sigma)=\\frac{1}{\\sigma \\sqrt{2\\pi}}e^{\\frac{-1}{2}(\\frac{x-\\mu}{\\sigma})^2}$\n",
        "\n",
        "donde:\n",
        "\n",
        "*   **x** es el número de ocurrencias del evento o fenómeno ((*x $\\in \\mathbb R$).\n",
        "*   **$\\mu$** es la media (también puede ser la mediana, la moda o el valor esperado, según aplique) \n",
        "*   **$\\sigma$** es la desviación típica [estándar es un anglicismo]\n",
        "*   **$\\sigma^2$** es la varianza."
      ]
    },
    {
      "cell_type": "code",
      "metadata": {
        "id": "OK9x4fzWtnds",
        "colab_type": "code",
        "colab": {}
      },
      "source": [
        "\n",
        "\n",
        "# Graficando Normal\n",
        "mu, sigma = 0, 0.2 # media y desvio estandar\n",
        "normal = stats.norm(mu, sigma)\n",
        "x = np.linspace(normal.ppf(0.01),\n",
        "                normal.ppf(0.99), 100)\n",
        "fp = normal.pdf(x) # Función de Probabilidad\n",
        "plt.plot(x, fp)\n",
        "plt.title('Distribución Normal')\n",
        "plt.ylabel('probabilidad')\n",
        "plt.xlabel('valores')\n",
        "plt.show()\n",
        "\n"
      ],
      "execution_count": null,
      "outputs": []
    },
    {
      "cell_type": "code",
      "metadata": {
        "id": "D-eojUXotjon",
        "colab_type": "code",
        "colab": {}
      },
      "source": [
        "\n",
        "# histograma\n",
        "aleatorios = normal.rvs(1000) # genera aleatorios\n",
        "cuenta, cajas, ignorar = plt.hist(aleatorios, 20)\n",
        "plt.ylabel('frequencia')\n",
        "plt.xlabel('valores')\n",
        "plt.title('Histograma Normal')\n",
        "plt.show()\n",
        "\n"
      ],
      "execution_count": null,
      "outputs": []
    },
    {
      "cell_type": "markdown",
      "metadata": {
        "id": "df2b-iLEjEdy",
        "colab_type": "text"
      },
      "source": [
        "## Ejemplo:"
      ]
    },
    {
      "cell_type": "markdown",
      "metadata": {
        "id": "AAn_ODljyvWp",
        "colab_type": "text"
      },
      "source": [
        "\n",
        "El peso medio de un paquete de cereales para el desayuno matutino es de 0,295 kg con una desviación estándar de 0,025 kg. El peso variable aleatorio del paquete sigue una distribución normal.\n",
        "\n",
        "a) ¿Cuál es la probabilidad de que el paquete pese menos de 0.280 kg?\n",
        "\n",
        "b) ¿Cuál es la probabilidad de que el paquete pese más de 0.350 kg?\n",
        "\n",
        "c) ¿Cuál es la probabilidad de que el paquete pese entre 0,260 kg y 0,340 kg?"
      ]
    },
    {
      "cell_type": "code",
      "metadata": {
        "id": "EUc4uS43jDnK",
        "colab_type": "code",
        "colab": {}
      },
      "source": [
        "# Para la primera pregunta, calcule el valor z\n",
        "z=(0.28-0.295)/0.025\n",
        "# Utilice el valor z calculado para calcular la probabilidad \n",
        "# o el área bajo la curva a la izquierda de este valor z\n",
        "stats.norm.cdf(-0.6)"
      ],
      "execution_count": null,
      "outputs": []
    },
    {
      "cell_type": "code",
      "metadata": {
        "id": "9sUV5GHG0oBT",
        "colab_type": "code",
        "colab": {}
      },
      "source": [
        "# Para la segunda pregunta, calcularemos la puntuación z\n",
        "z=(0.35-0.295)/0.025\n",
        "# Utilice el valor z calculado para calcular la probabilidad\n",
        "# o el área bajo la curva a la derecha de este valor z\n",
        "1 - stats.norm.cdf(2.2)"
      ],
      "execution_count": null,
      "outputs": []
    },
    {
      "cell_type": "code",
      "metadata": {
        "id": "cjr1aCSc2p_E",
        "colab_type": "code",
        "colab": {}
      },
      "source": [
        "#Para la tercera pregunta, calcularemos la puntuación z de ambos pesos.\n",
        "z1 = (0.26-0.295)/0.025\n",
        "z2 = (0.34-0.295)/0.025\n",
        "\n",
        "# Utilice los valores z calculados para calcular \n",
        "# la probabilidad o el área bajo la curva entre los dos valores z\n",
        "stats.norm.cdf(z2) - stats.norm.cdf(z1)"
      ],
      "execution_count": null,
      "outputs": []
    },
    {
      "cell_type": "markdown",
      "metadata": {
        "id": "XgjNVz6Zt1tp",
        "colab_type": "text"
      },
      "source": [
        "## Distribución Uniforme"
      ]
    },
    {
      "cell_type": "markdown",
      "metadata": {
        "id": "jwCHmnLft3pK",
        "colab_type": "text"
      },
      "source": [
        ">$f(x;a,b)=\\frac{1}{b-a}$, para $a≤x≤b$\n",
        "\n",
        "Su función de distribución esta entonces dada por:\n",
        "\n",
        ">$ p(x;a,b) = \\left \\{ \n",
        "\\begin{matrix} \n",
        "0 & \\mbox{si }\\mbox{ x≤a}\n",
        "\\\\ \\frac{x-a}{b-a} & \\mbox{si }\\mbox{ a≤x≤b}\n",
        "\\\\1 & \\mbox{si }\\mbox{ b≤x}\n",
        "\\end{matrix}\\right.  $\n",
        "\n",
        "donde:\n",
        "a y b  no son por lo general importantes porque no afectan el valor de las integrales de $f(x)dx$ sobre el intervalo\n"
      ]
    },
    {
      "cell_type": "code",
      "metadata": {
        "id": "D5YN5GhGt35s",
        "colab_type": "code",
        "colab": {}
      },
      "source": [
        "# Graficando Uniforme\n",
        "uniforme = stats.uniform()\n",
        "x = np.linspace(uniforme.ppf(0.01),\n",
        "                uniforme.ppf(0.99), 100)\n",
        "fp = uniforme.pdf(x) # Función de Probabilidad\n",
        "fig, ax = plt.subplots()\n",
        "ax.plot(x, fp, '--')\n",
        "ax.vlines(x, 0, fp, colors='b', lw=5, alpha=0.5)\n",
        "ax.set_yticks([0., 0.2, 0.4, 0.6, 0.8, 1., 1.2])\n",
        "plt.title('Distribución Uniforme')\n",
        "plt.ylabel('probabilidad')\n",
        "plt.xlabel('valores')\n",
        "plt.show()"
      ],
      "execution_count": null,
      "outputs": []
    },
    {
      "cell_type": "code",
      "metadata": {
        "id": "lkwIhNVQvIxL",
        "colab_type": "code",
        "colab": {}
      },
      "source": [
        "# histograma\n",
        "aleatorios = uniforme.rvs(1000) # genera aleatorios\n",
        "cuenta, cajas, ignorar = plt.hist(aleatorios, 20)\n",
        "plt.ylabel('frequencia')\n",
        "plt.xlabel('valores')\n",
        "plt.title('Histograma Uniforme')\n",
        "plt.show()"
      ],
      "execution_count": null,
      "outputs": []
    },
    {
      "cell_type": "markdown",
      "metadata": {
        "id": "f-TFcFSmz0tV",
        "colab_type": "text"
      },
      "source": [
        "## Ejemplo:"
      ]
    },
    {
      "cell_type": "code",
      "metadata": {
        "id": "HqX_rMhQ7CKG",
        "colab_type": "code",
        "colab": {}
      },
      "source": [
        "n = 100\n",
        "width = 1 \n",
        "height = 1\n",
        "    \n",
        "x = np.random.uniform(0,width,n)\n",
        "y = np.random.uniform(0,height,n)\n",
        "    \n",
        "plt.scatter(x,y,color='black')"
      ],
      "execution_count": null,
      "outputs": []
    },
    {
      "cell_type": "markdown",
      "metadata": {
        "id": "fS6_MVEjz4tS",
        "colab_type": "text"
      },
      "source": [
        "## Distribucion Exponencial\n"
      ]
    },
    {
      "cell_type": "markdown",
      "metadata": {
        "id": "SJVbksKW1BXT",
        "colab_type": "text"
      },
      "source": [
        ">$p(x;\\alpha)=\\frac{1}{\\alpha }e^{\\frac{-x}{a}}$\n",
        "\n",
        "En dónde tanto la variable x como el parámetro α son números reales positivos. La Distribución Exponencial tiene bastantes aplicaciones, tales como la desintegración de un átomo radioactivo o el tiempo entre eventos en un proceso de Poisson donde los acontecimientos suceden a una velocidad constante."
      ]
    },
    {
      "cell_type": "code",
      "metadata": {
        "id": "olG68H6D0Bo0",
        "colab_type": "code",
        "colab": {}
      },
      "source": [
        "# Graficando Exponencial\n",
        "exponencial = stats.expon()\n",
        "x = np.linspace(exponencial.ppf(0.01),\n",
        "                exponencial.ppf(0.99), 100)\n",
        "fp = exponencial.pdf(x) # Función de Probabilidad\n",
        "plt.plot(x, fp)\n",
        "plt.title('Distribución Exponencial')\n",
        "plt.ylabel('probabilidad')\n",
        "plt.xlabel('valores')\n",
        "plt.show()"
      ],
      "execution_count": null,
      "outputs": []
    },
    {
      "cell_type": "code",
      "metadata": {
        "id": "ogsv--zG06uO",
        "colab_type": "code",
        "colab": {}
      },
      "source": [
        "\n",
        "# histograma\n",
        "aleatorios = exponencial.rvs(1000) # genera aleatorios\n",
        "cuenta, cajas, ignorar = plt.hist(aleatorios, 20)\n",
        "plt.ylabel('frequencia')\n",
        "plt.xlabel('valores')\n",
        "plt.title('Histograma Exponencial')\n",
        "plt.show()"
      ],
      "execution_count": null,
      "outputs": []
    },
    {
      "cell_type": "markdown",
      "metadata": {
        "id": "MIAyWrhKHTA-",
        "colab_type": "text"
      },
      "source": [
        "## Distribución Weibull"
      ]
    },
    {
      "cell_type": "markdown",
      "metadata": {
        "id": "_n-wyBoCHT2G",
        "colab_type": "text"
      },
      "source": [
        "La distribución Weibull se utiliza frecuentemente para modelar el tiempo hasta que ocurra una falla. Una variable aleatoria continua X sigue una distribución Weibull si su función de densidad de probabilidad está dada por:\n",
        "$$f(x)=\\frac{\\beta}{\\delta}(\\frac{x}{\\delta})^{\\beta-1}e^{(\\frac{-x\\beta}{\\delta})},x>0$$\n",
        "\n",
        "Los parámetros $\\beta$ y $\\delta$ son positivos y cuando $\\beta$ = 1, la distribución de Weibull es idéntica a la distribución exponencial. La probabilidadde que X tome un valor menor que una constante k está dada por:\n",
        "\n",
        "$$P(X<k)=1-e^{\\frac{k}{\\delta}\\beta}$$"
      ]
    },
    {
      "cell_type": "code",
      "metadata": {
        "id": "_hVQDeTlHUx0",
        "colab_type": "code",
        "colab": {}
      },
      "source": [
        "import matplotlib.pyplot as plt\n",
        "x = np.arange(1,100.)/50.\n",
        "def weib(x,n,a):\n",
        "    return (a / n) * (x / n)**(a - 1) * np.exp(-(x / n)**a)"
      ],
      "execution_count": null,
      "outputs": []
    },
    {
      "cell_type": "code",
      "metadata": {
        "id": "iMHj1paVHZPv",
        "colab_type": "code",
        "colab": {}
      },
      "source": [
        "count, bins, ignored = plt.hist(np.random.weibull(5.,1000))\n",
        "x = np.arange(1,100.)/50.\n",
        "scale = count.max()/weib(x, 1., 5.).max()\n",
        "plt.plot(x, weib(x, 1., 5.)*scale)\n",
        "plt.show()"
      ],
      "execution_count": null,
      "outputs": []
    },
    {
      "cell_type": "markdown",
      "metadata": {
        "id": "9w52TTS5vOCK",
        "colab_type": "text"
      },
      "source": [
        "# Distribución Chi cuadrado"
      ]
    },
    {
      "cell_type": "markdown",
      "metadata": {
        "id": "IyyY6ZeVvOWj",
        "colab_type": "text"
      },
      "source": [
        ">$p(x;\\mu, \\sigma)=\\frac{1}{x\\sigma \\sqrt{2\\pi}}e^{\\frac{-1}{2}(\\frac{\\ln x-\\mu}{\\sigma})^2}$\n",
        "\n",
        "donde:\n",
        "\n",
        "*   **x** es el número de ocurrencias del evento o fenómeno (x $\\in \\mathbb R, x>0$).\n",
        "*   **$\\mu$** es la media\n",
        "*   **$\\sigma$** es la desviación típica [estándar es un anglicismo]\n",
        "*   **$\\sigma^2$** es la varianza."
      ]
    },
    {
      "cell_type": "code",
      "metadata": {
        "id": "cOeCjjsivM1E",
        "colab_type": "code",
        "colab": {}
      },
      "source": [
        "# Graficando Chi cuadrado\n",
        "df = 34 # parametro de forma.\n",
        "chi2 = stats.chi2(df)\n",
        "x = np.linspace(chi2.ppf(0.01),\n",
        "                chi2.ppf(0.99), 100)\n",
        "fp = chi2.pdf(x) # Función de Probabilidad\n",
        "plt.plot(x, fp)\n",
        "plt.title('Distribución Chi cuadrado')\n",
        "plt.ylabel('probabilidad')\n",
        "plt.xlabel('valores')\n",
        "plt.show()\n",
        "\n"
      ],
      "execution_count": null,
      "outputs": []
    },
    {
      "cell_type": "code",
      "metadata": {
        "id": "_Q7Fi0zTvVTs",
        "colab_type": "code",
        "colab": {}
      },
      "source": [
        "# histograma\n",
        "aleatorios = chi2.rvs(1000) # genera aleatorios\n",
        "cuenta, cajas, ignorar = plt.hist(aleatorios, 20)\n",
        "plt.ylabel('frequencia')\n",
        "plt.xlabel('valores')\n",
        "plt.title('Histograma Chi cuadrado')\n",
        "plt.show()"
      ],
      "execution_count": null,
      "outputs": []
    },
    {
      "cell_type": "markdown",
      "metadata": {
        "id": "Z8E7ZiUsGd2J",
        "colab_type": "text"
      },
      "source": [
        "# Distribucion T-student"
      ]
    },
    {
      "cell_type": "markdown",
      "metadata": {
        "id": "WLD-iBuhGizG",
        "colab_type": "text"
      },
      "source": [
        "En dónde la variable t es un número real y el parámetro n es un número entero positivo. La Distribución t de Student es utilizada para probar si la diferencia entre las medias de dos muestras de observaciones es estadísticamente significativa. Por ejemplo, las alturas de una muestra aleatoria de los jugadores de baloncesto podría compararse con las alturas de una muestra aleatoria de jugadores de fútbol; esta distribución nos podría ayudar a determinar si un grupo es significativamente más alto que el otro."
      ]
    },
    {
      "cell_type": "code",
      "metadata": {
        "id": "i86bJfkMCvsG",
        "colab_type": "code",
        "colab": {}
      },
      "source": [
        "\n",
        "df = 50 # parametro de forma.\n",
        "t = stats.t(df)\n",
        "x = np.linspace(t.ppf(0.01),\n",
        "                t.ppf(0.99), 100)\n",
        "fp = t.pdf(x) # Función de Probabilidad\n",
        "plt.plot(x, fp)\n",
        "plt.title('Distribución t de Student')\n",
        "plt.ylabel('probabilidad')\n",
        "plt.xlabel('valores')\n",
        "plt.show()"
      ],
      "execution_count": null,
      "outputs": []
    },
    {
      "cell_type": "code",
      "metadata": {
        "id": "0rnhxTNLGloq",
        "colab_type": "code",
        "colab": {}
      },
      "source": [
        "\n",
        "# histograma\n",
        "aleatorios = t.rvs(1000) # genera aleatorios\n",
        "cuenta, cajas, ignorar = plt.hist(aleatorios, 20)\n",
        "plt.ylabel('frequencia')\n",
        "plt.xlabel('valores')\n",
        "plt.title('Histograma t de Student')\n",
        "plt.show()"
      ],
      "execution_count": null,
      "outputs": []
    }
  ]
}