{
  "nbformat": 4,
  "nbformat_minor": 0,
  "metadata": {
    "kernelspec": {
      "display_name": "Python3.8",
      "language": "python",
      "name": "python3.8"
    },
    "language_info": {
      "codemirror_mode": {
        "name": "ipython",
        "version": 3
      },
      "file_extension": ".py",
      "mimetype": "text/x-python",
      "name": "python",
      "nbconvert_exporter": "python",
      "pygments_lexer": "ipython3",
      "version": "3.8.0"
    },
    "colab": {
      "name": "Ejemplos_Clase3_2.ipynb",
      "provenance": []
    }
  },
  "cells": [
    {
      "cell_type": "markdown",
      "metadata": {
        "id": "OdjrhG0ejiVF",
        "colab_type": "text"
      },
      "source": [
        "# Preparamos los modulos"
      ]
    },
    {
      "cell_type": "code",
      "metadata": {
        "id": "iciN1A3UbuYO",
        "colab_type": "code",
        "colab": {}
      },
      "source": [
        "import numpy as np # algebra lineal \n",
        "import matplotlib.pyplot as plt # visualizacion\n",
        "import seaborn as sns # visualizacion\n",
        "import pandas as pd # dataframes \n",
        "\n",
        "import random as rnd\n",
        "import math as m"
      ],
      "execution_count": null,
      "outputs": []
    },
    {
      "cell_type": "markdown",
      "metadata": {
        "id": "ClzFkLD_buYd",
        "colab_type": "text"
      },
      "source": [
        "# Preparamos la data "
      ]
    },
    {
      "cell_type": "code",
      "metadata": {
        "id": "N2k7WAYtbuYf",
        "colab_type": "code",
        "colab": {}
      },
      "source": [
        "df = pd.read_csv('https://raw.githubusercontent.com/robintux/Datasets4StackOverFlowQuestions/master/Food_Preference.csv')\n",
        "df.head()"
      ],
      "execution_count": null,
      "outputs": []
    },
    {
      "cell_type": "code",
      "metadata": {
        "id": "zkaTSsS4buYv",
        "colab_type": "code",
        "colab": {}
      },
      "source": [
        "df['Date'] = pd.to_datetime(df['Timestamp']) "
      ],
      "execution_count": null,
      "outputs": []
    },
    {
      "cell_type": "code",
      "metadata": {
        "id": "jApv6ICUbuY5",
        "colab_type": "code",
        "colab": {}
      },
      "source": [
        "df['Day'] = df.Date.dt.day \n",
        "df.head()"
      ],
      "execution_count": null,
      "outputs": []
    },
    {
      "cell_type": "markdown",
      "metadata": {
        "id": "FCJdekepbuZp",
        "colab_type": "text"
      },
      "source": [
        "# Graficos con seaborn"
      ]
    },
    {
      "cell_type": "code",
      "metadata": {
        "id": "55VKRkQobuZr",
        "colab_type": "code",
        "colab": {}
      },
      "source": [
        "#Set style\n",
        "sns.set_style(\"darkgrid\")\n",
        "sns.set_palette('deep')"
      ],
      "execution_count": null,
      "outputs": []
    },
    {
      "cell_type": "code",
      "metadata": {
        "id": "eBlNU9SFbuZx",
        "colab_type": "code",
        "colab": {}
      },
      "source": [
        "#Basic barplot food by age\n",
        "sns.barplot(x='Food', y='Age', data=df)\n",
        "plt.show()"
      ],
      "execution_count": null,
      "outputs": []
    },
    {
      "cell_type": "code",
      "metadata": {
        "id": "C-nH5FRBcXkQ",
        "colab_type": "code",
        "colab": {}
      },
      "source": [
        "#Basic barplot age by gender\n",
        "sns.barplot(x='Gender', y='Age', data=df)\n",
        "plt.show()"
      ],
      "execution_count": null,
      "outputs": []
    },
    {
      "cell_type": "code",
      "metadata": {
        "id": "Wc9GyanIcoko",
        "colab_type": "code",
        "colab": {}
      },
      "source": [
        "#Basic barplot age by Nationality\n",
        "sns.barplot(x='Nationality', y='Age', data=df)\n",
        "plt.xticks(rotation='vertical')\n",
        "plt.show()"
      ],
      "execution_count": null,
      "outputs": []
    },
    {
      "cell_type": "code",
      "metadata": {
        "id": "37_ulQZxbuZ7",
        "colab_type": "code",
        "colab": {}
      },
      "source": [
        "#Using hue to agreggate by gender and ci could be change from mean to sd\n",
        "ax = sns.barplot(x='Food', y='Age', hue='Gender', data=df)\n",
        "plt.legend(loc='center left', bbox_to_anchor=(1.0, 0.5), ncol=1)\n",
        "plt.title('Food orders by gender')"
      ],
      "execution_count": null,
      "outputs": []
    },
    {
      "cell_type": "code",
      "metadata": {
        "id": "HyIgfMpidwGR",
        "colab_type": "code",
        "colab": {}
      },
      "source": [
        "#Using hue to agreggate by gender and ci could be change from mean to sd\n",
        "ax = sns.barplot(x='Food', y='Age', hue='Gender', data=df)\n",
        "plt.legend(loc='lower center',bbox_to_anchor=(0.5, -0.2) , ncol=2)\n",
        "plt.title('Food orders by gender', y = -0.3)\n",
        "plt.show()"
      ],
      "execution_count": null,
      "outputs": []
    },
    {
      "cell_type": "code",
      "metadata": {
        "id": "E2b-PmbgbuaD",
        "colab_type": "code",
        "colab": {}
      },
      "source": [
        "#Histogram\n",
        "sns.distplot(df['Age'])\n",
        "plt.show()"
      ],
      "execution_count": null,
      "outputs": []
    },
    {
      "cell_type": "code",
      "metadata": {
        "id": "ivnkEKMSbuaK",
        "colab_type": "code",
        "colab": {}
      },
      "source": [
        "#KDE plot\n",
        "sns.kdeplot(data=df['Age'], shade=True)\n",
        "plt.show()"
      ],
      "execution_count": null,
      "outputs": []
    },
    {
      "cell_type": "code",
      "metadata": {
        "id": "ORVDVRJEbuaR",
        "colab_type": "code",
        "colab": {}
      },
      "source": [
        "#Boxplot\n",
        "sns.boxplot(data=df, x='Food', y='Age')"
      ],
      "execution_count": null,
      "outputs": []
    },
    {
      "cell_type": "code",
      "metadata": {
        "id": "rfu0wbZ3f8NB",
        "colab_type": "code",
        "colab": {}
      },
      "source": [
        "#Boxplot\n",
        "plt.rcParams['figure.figsize'] = (14, 10)\n",
        "sns.boxplot(data=df, x='Nationality', y='Age')\n",
        "plt.xticks(rotation='vertical')\n",
        "plt.show()\n"
      ],
      "execution_count": null,
      "outputs": []
    },
    {
      "cell_type": "code",
      "metadata": {
        "id": "gag-7MRbhCCE",
        "colab_type": "code",
        "colab": {}
      },
      "source": [
        "\n",
        "# Me interesan las nacionalidades con masde 7 clientes\n",
        "\n",
        "fig,ax = plt.subplots(figsize=(15,7))\n",
        "sns.countplot(y='Nationality',data = df)\n",
        "plt.show()\n",
        "\n",
        "Vals, NumVals = np.unique(df.Nationality, return_counts=True)\n",
        "pd.DataFrame({\"Paises\": Vals, \"Num. Clientes\": NumVals})\n",
        "\n",
        "\n"
      ],
      "execution_count": null,
      "outputs": []
    },
    {
      "cell_type": "code",
      "metadata": {
        "id": "gQ8NXgOHjKrc",
        "colab_type": "code",
        "colab": {}
      },
      "source": [
        "fig,ax = plt.subplots(figsize=(15,17))\n",
        "sns.countplot(y='Age',data = df)\n",
        "plt.show()"
      ],
      "execution_count": null,
      "outputs": []
    },
    {
      "cell_type": "code",
      "metadata": {
        "id": "XMgaes8XicMq",
        "colab_type": "code",
        "colab": {}
      },
      "source": [
        "# variable Dessert (postre)\n",
        "plt.rcParams['figure.figsize'] = (7, 5)\n",
        "sns.countplot(x='Dessert', data = df, color = '#C70039')\n",
        "plt.show()"
      ],
      "execution_count": null,
      "outputs": []
    },
    {
      "cell_type": "code",
      "metadata": {
        "id": "xohckwShiriM",
        "colab_type": "code",
        "colab": {}
      },
      "source": [
        "fig,ax = plt.subplots(1,2,figsize=(10,5))\n",
        "sns.countplot(x='Dessert',data=df,color='#3ff08a',ax=ax[0])\n",
        "sns.countplot(x='Food', data = df, color = '#e14735',ax=ax[1])\n",
        "plt.show()"
      ],
      "execution_count": null,
      "outputs": []
    },
    {
      "cell_type": "code",
      "metadata": {
        "id": "59SfrvxHi1A3",
        "colab_type": "code",
        "colab": {}
      },
      "source": [
        "fig,ax = plt.subplots(1,2,figsize=(10,5))\n",
        "sns.countplot(x='Gender',data=df,color='#4d5ae8',ax=ax[0])\n",
        "sns.countplot(x='Dessert', data = df, color = '#C70039',ax=ax[1])\n",
        "plt.show()"
      ],
      "execution_count": null,
      "outputs": []
    },
    {
      "cell_type": "code",
      "metadata": {
        "id": "QifhK9bHbuaZ",
        "colab_type": "code",
        "colab": {}
      },
      "source": [
        "#Violinplot\n",
        "sns.violinplot(data=df, x='Gender', y='Age')"
      ],
      "execution_count": null,
      "outputs": []
    },
    {
      "cell_type": "code",
      "metadata": {
        "id": "yTnfOuSMbuaf",
        "colab_type": "code",
        "colab": {}
      },
      "source": [
        "#Categorical\n",
        "sns.catplot(x='Gender', y='Age', data=df, kind='strip')"
      ],
      "execution_count": null,
      "outputs": []
    },
    {
      "cell_type": "code",
      "metadata": {
        "id": "DM4seq2Nbual",
        "colab_type": "code",
        "colab": {}
      },
      "source": [
        "sns.catplot(x='Day', y='Age', hue='Gender', kind=\"swarm\", data=df)"
      ],
      "execution_count": null,
      "outputs": []
    },
    {
      "cell_type": "code",
      "metadata": {
        "id": "Wq7lflWDbuar",
        "colab_type": "code",
        "colab": {}
      },
      "source": [
        "#Filter again to reduce the DataFrame\n",
        "df1 = df[df['Nationality'].isin(('Indian', 'Pakistani ', 'Indonesia',\n",
        "        'MY', 'Malaysian'))]"
      ],
      "execution_count": null,
      "outputs": []
    },
    {
      "cell_type": "code",
      "metadata": {
        "id": "jwUxFAubbuav",
        "colab_type": "code",
        "colab": {}
      },
      "source": [
        "df1.head()"
      ],
      "execution_count": null,
      "outputs": []
    },
    {
      "cell_type": "code",
      "metadata": {
        "id": "uTpRyQNKbua2",
        "colab_type": "code",
        "colab": {}
      },
      "source": [
        "#Scatter\n",
        "sns.scatterplot(x=\"Age\", y=\"Day\", hue='Food', data=df1)"
      ],
      "execution_count": null,
      "outputs": []
    }
  ]
}