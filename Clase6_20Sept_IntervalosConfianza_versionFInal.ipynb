{
  "nbformat": 4,
  "nbformat_minor": 0,
  "metadata": {
    "colab": {
      "name": "Clase6_20Sept_IntervalosConfianza.ipynb",
      "provenance": [],
      "collapsed_sections": [],
      "authorship_tag": "ABX9TyMWbf1/e3F3lJRhlwOKzLjH"
    },
    "kernelspec": {
      "name": "python3",
      "display_name": "Python 3"
    }
  },
  "cells": [
    {
      "cell_type": "markdown",
      "metadata": {
        "id": "js56uE9mpnJ3",
        "colab_type": "text"
      },
      "source": [
        "# Estadísticos, estimadores y parámetros.\n",
        "\n",
        "Un estadístico es una medida usada para describir alguna característica de\n",
        "una muestra (media, mediana, desviación típica,...) y un parámetro es una\n",
        "medida usada para describir las mismas características pero de la población\n",
        "(media, mediana, desviación típica,...). Cuando el estadístico se calcula en\n",
        "una muestra con idea de hacer inferencia sobre la misma característica en\n",
        "la población, se le llama estimador. La inferencia estadística pretende\n",
        "aproximarse a los parámetros de la población a partir de los estimadores de\n",
        "la muestra. Para distinguir los estimadores (valores muestrales) de los\n",
        "parámetros (valores poblacionales) los representaremos a partir de ahora\n",
        "con diferentes símbolos:\n",
        "\n",
        "![](https://raw.githubusercontent.com/robintux/Images4Colabs/master/EstadisticosMuestraPoblacion.png)\n",
        "\n",
        "\n",
        "## Variación entre muestras.\n",
        "Si tomamos varias muestras aleatorias de cierta población, cualquier\n",
        "estimador tomará valores distintos para cada una de ellas. A esta variación\n",
        "en las estimaciones, efecto del azar sobre la elección de la muestra, se le\n",
        "llama variación muestral. La variación muestral dependerá de la\n",
        "variabilidad de la variable que tengamos y también del tamaño de la\n",
        "muestra.\n",
        "\n",
        "### Ejemplos de variación entre muestras\n",
        "Si tomamos distintas muestras de la temperatura corporal en población\n",
        "sana tendremos una variación muestral bastante baja (la variabilidad de\n",
        "esta variable es baja entre diferentes personas).\n",
        "Si tomamos la tensión arterial en la población española obtendremos una\n",
        "variación muestral bastante más elevada.\n",
        "(Variabilidad de esta variable alta).\n",
        "Si tomamos muestras de tamaño 10 y calculamos medias muestrales, por\n",
        "ejemplo, se parecerán entre ellas menos, que si las muestras que tomamos\n",
        "son de tamaño 1000. Es decir la variación muestral sería en general más\n",
        "baja cuanto más grande sea la muestra utilizada para calcular nuestro\n",
        "estimador.\n",
        "\n",
        "## Distribución de estadísticos en el muestreo.\n",
        "### Error estándar de la media muestral\n",
        "El Teorema Central del Límite nos asegura que si nuestra muestra es\n",
        "razonablemente grande la distribución de la media muestral de cualquier\n",
        "variable sigue una distribución Normal y que además, la desviación típica de\n",
        "esta media tiene como expresión:\n",
        "\n",
        "$$ \\dfrac{\\sigma}{\\sqrt{n}}$$\n",
        "\n",
        "$\\sigma$ que representa la desviación típica de la variable original y n es el tamaño\n",
        "de la muestra. A la expresión anterior se le llama error estándar de la\n",
        "media.\n",
        "\n",
        "Supongamos que tenemos una variable cuantitativa cualquiera X, cuya\n",
        "media en la población es $\\mu$ y cuya desviación típica (también en la\n",
        "población) es $\\sigma$. Si se toman varias muestras de tamaño suficientemente\n",
        "grande y llamamos X a la variable que guarda las medias muestrales para\n",
        "cada una de las muestras, por el Teorema Central del Límite tenemos\n",
        "asegurado:\n",
        "\n",
        "$$ \\bar{X} \\sim N\\left( \\mu, \\dfrac{\\sigma}{\\sqrt{n}}\\right) $$\n",
        "\n",
        "### Error estándar de un porcentaje\n",
        "En el caso de que la variable de interés sea una variable nominal no tiene\n",
        "sentido que nos planteemos el error estándar de su media (de hecho la\n",
        "media de una variable nominal no tiene tampoco sentido) sino el de su\n",
        "porcentaje de individuos en cada uno de sus valores. En este caso si P es el\n",
        "porcentaje de respuestas en ese valor su error estándar será:\n",
        "\n",
        "$$\\sqrt{ \\dfrac{P(100-P)}{n}}$$\n",
        "\n",
        "En la expresión anterior se ha supuesto que la variable P está expresada en\n",
        "tantos por 100, si estuviera expresada en tantos por uno (es decir P es un\n",
        "valor entre 0 y 1) únicamente habríamos de cambiar en ella el valor 100 por\n",
        "1 y la expresión seguiría siendo válida.\n",
        "Supongamos que tenemos una variable categórica y que nos interesa\n",
        "estimar el porcentaje de una de sus categorías en la población, al que\n",
        "llamamos P. Si tomamos varias muestras de tamaño suficientemente\n",
        "grande (n) y en cada una de esas muestras obtenemos una estimación del\n",
        "porcentaje de interés, si llamamos P a la variable que guarda los\n",
        "porcentajes de esas muestras, se cumple que esta variable aleatoria sigue\n",
        "la siguiente distribución:\n",
        "\n",
        "$$ \\widehat{P} \\sim N\\left( P, \\sqrt{\\dfrac{P(100-P)}{n}}\\right)$$\n",
        "\n",
        "## Intervalos de confianza\n",
        "El proceso de inferencia es aquel mediante el cual se pretende estimar el\n",
        "valor de un parámetro a partir del valor de un estadístico. Esta estimación\n",
        "puede ser puntual o bien por intervalo. La mejor estimación puntual de\n",
        "un parámetro es simplemente el valor del estadístico correspondiente, pero\n",
        "es poco informativa porque la probabilidad de no dar con el valor correcto\n",
        "es muy elevada, es por eso que se acostumbra a dar una estimación por\n",
        "intervalo, en el que se espera encontrar el valor del parámetro con una\n",
        "elevada probabilidad. Esta estimación recibe el nombre de estimación\n",
        "mediante intervalos de confianza.\n",
        "\n",
        "La estimación por intervalos de confianza consiste en determinar un\n",
        "posible rango de valores o intervalo (a; b), en el que, con una determinada\n",
        "probabilidad, sus límites contendrán el valor del parámetro poblacional que\n",
        "andamos buscando. Para cada muestra obtendremos un intervalo distinto\n",
        "que, para el X % de ellas, contendrá el verdadero valor del parámetro. A\n",
        "este intervalo se le denomina intervalo de confianza.\n",
        "\n",
        "Evidentemente esta técnica no tiene porqué dar siempre un resultado\n",
        "correcto, tal y como hemos comentado para algunas muestras el intervalo\n",
        "correspondiente contendrá el verdadero valor del parámetro y para otras\n",
        "no. A la probabilidad de que hayamos acertado al decir que el intervalo\n",
        "contiene al parámetro se la denomina nivel de confianza (o simplemente\n",
        "confianza). También se denomina nivel de significación a la probabilidad\n",
        "de errar en esta afirmación, es decir la significación (probabilidad de errar con nuestro intervalo) será igual a 1-(nivel de confianza), ya que el nivel de\n",
        "confianza corresponde a la probabilidad de que el intervalo contenga el valor\n",
        "verdadero del parámetro.\n",
        "\n",
        "Para que los ingresen en la ciencia de datos, es realmente importante comprender los conceptos de estadística y probabilidad. ¡Uno de esos conceptos es el intervalo de confianza! \n",
        "\n",
        "Es una idea frecuentista (estadísticos que ven la probabilidad como la frecuencia). Si [a, b] es un intervalo de confianza del 95% para la media de la muestra, es decir, el 95% del tiempo, los intervalos de confianza contendrían la media de la muestra.\n",
        "\n",
        "En este notebook, veremos los intervalos de confianza y cómo puede verificarlos usando la biblioteca NumPy de Python.\n",
        "\n"
      ]
    },
    {
      "cell_type": "code",
      "metadata": {
        "id": "9X9FS27QjpA4",
        "colab_type": "code",
        "colab": {
          "base_uri": "https://localhost:8080/",
          "height": 238
        },
        "outputId": "ba4387b2-238d-4e2e-e465-32ff3fe012ec"
      },
      "source": [
        "# importamos modulos : numpy y pandas (manejo de dataframes, estadisticas, y graficos)\n",
        "import pandas as pd \n",
        "import numpy as np \n",
        "\n",
        "# para mantener reproductibilidad de los resultados fijemos una semilla\n",
        "np.random.seed(666)\n",
        "\n",
        "cafe = pd.read_csv('https://raw.githubusercontent.com/robintux/Datasets4StackOverFlowQuestions/master/coffee_dataset.csv')\n",
        "\n",
        "# type(cafe)\n",
        "# dir(cafe)\n",
        "# help(cafe.sample)\n",
        "\n",
        "print(\"Numero de elementos de mi poblacion : \" + str(cafe.shape[0]))\n",
        "\n",
        "# Muestrear 200 elementos \n",
        "cafe_muestra = cafe.sample(n = 200)\n",
        "\n",
        "cafe_muestra.tail()\n",
        "\n",
        "\n",
        "# deseoconstruir una muestra conel 15% (aprox.) de los datos \n",
        "print(int(np.round(15/100*cafe.shape[0],decimals = 0 )))\n",
        "cafe_muestra_2 = cafe.sample(n = int(np.round(15/100*cafe.shape[0],decimals = 0 )))\n",
        "cafe_muestra_2.shape\n",
        "\n",
        "cafe_muestra_3 = cafe.sample(frac = 0.15)\n",
        "cafe_muestra_3.shape\n",
        "\n",
        "cafe_muestra.head()\n"
      ],
      "execution_count": 16,
      "outputs": [
        {
          "output_type": "stream",
          "text": [
            "Numero de elementos de mi poblacion : 2974\n",
            "446\n"
          ],
          "name": "stdout"
        },
        {
          "output_type": "execute_result",
          "data": {
            "text/html": [
              "<div>\n",
              "<style scoped>\n",
              "    .dataframe tbody tr th:only-of-type {\n",
              "        vertical-align: middle;\n",
              "    }\n",
              "\n",
              "    .dataframe tbody tr th {\n",
              "        vertical-align: top;\n",
              "    }\n",
              "\n",
              "    .dataframe thead th {\n",
              "        text-align: right;\n",
              "    }\n",
              "</style>\n",
              "<table border=\"1\" class=\"dataframe\">\n",
              "  <thead>\n",
              "    <tr style=\"text-align: right;\">\n",
              "      <th></th>\n",
              "      <th>user_id</th>\n",
              "      <th>age</th>\n",
              "      <th>drinks_coffee</th>\n",
              "      <th>height</th>\n",
              "    </tr>\n",
              "  </thead>\n",
              "  <tbody>\n",
              "    <tr>\n",
              "      <th>2819</th>\n",
              "      <td>3076</td>\n",
              "      <td>&lt;21</td>\n",
              "      <td>True</td>\n",
              "      <td>65.356024</td>\n",
              "    </tr>\n",
              "    <tr>\n",
              "      <th>1205</th>\n",
              "      <td>3219</td>\n",
              "      <td>&gt;=21</td>\n",
              "      <td>True</td>\n",
              "      <td>70.192550</td>\n",
              "    </tr>\n",
              "    <tr>\n",
              "      <th>2626</th>\n",
              "      <td>5517</td>\n",
              "      <td>&lt;21</td>\n",
              "      <td>False</td>\n",
              "      <td>63.171236</td>\n",
              "    </tr>\n",
              "    <tr>\n",
              "      <th>1528</th>\n",
              "      <td>6029</td>\n",
              "      <td>&gt;=21</td>\n",
              "      <td>True</td>\n",
              "      <td>68.346182</td>\n",
              "    </tr>\n",
              "    <tr>\n",
              "      <th>657</th>\n",
              "      <td>2893</td>\n",
              "      <td>&lt;21</td>\n",
              "      <td>False</td>\n",
              "      <td>65.517730</td>\n",
              "    </tr>\n",
              "  </tbody>\n",
              "</table>\n",
              "</div>"
            ],
            "text/plain": [
              "      user_id   age  drinks_coffee     height\n",
              "2819     3076   <21           True  65.356024\n",
              "1205     3219  >=21           True  70.192550\n",
              "2626     5517   <21          False  63.171236\n",
              "1528     6029  >=21           True  68.346182\n",
              "657      2893   <21          False  65.517730"
            ]
          },
          "metadata": {
            "tags": []
          },
          "execution_count": 16
        }
      ]
    },
    {
      "cell_type": "markdown",
      "metadata": {
        "id": "HqErSyy8wa_L",
        "colab_type": "text"
      },
      "source": [
        "Entonces, nuestra muestra es \"cafe_muestra\" y estaremos trabajando en eso. Revisemos la cantidad de usuarios que toman café y quienes no.\n"
      ]
    },
    {
      "cell_type": "code",
      "metadata": {
        "id": "Xq-MLlbzweqi",
        "colab_type": "code",
        "colab": {
          "base_uri": "https://localhost:8080/",
          "height": 85
        },
        "outputId": "04c594f4-85f8-4dd6-a5dd-400e3c8db4e2"
      },
      "source": [
        "\n",
        "cafe_muestra.groupby('drinks_coffee').count()['user_id']"
      ],
      "execution_count": 17,
      "outputs": [
        {
          "output_type": "execute_result",
          "data": {
            "text/plain": [
              "drinks_coffee\n",
              "False     81\n",
              "True     119\n",
              "Name: user_id, dtype: int64"
            ]
          },
          "metadata": {
            "tags": []
          },
          "execution_count": 17
        }
      ]
    },
    {
      "cell_type": "code",
      "metadata": {
        "id": "RjQuuWOsxvMX",
        "colab_type": "code",
        "colab": {
          "base_uri": "https://localhost:8080/",
          "height": 34
        },
        "outputId": "d20fd56a-f46b-429b-9eb3-517379ae305a"
      },
      "source": [
        "cafe_muestra.query('drinks_coffee == True').mean()['height']\n",
        "# media de la variable height de los que toman cafe "
      ],
      "execution_count": 18,
      "outputs": [
        {
          "output_type": "execute_result",
          "data": {
            "text/plain": [
              "68.57060469023921"
            ]
          },
          "metadata": {
            "tags": []
          },
          "execution_count": 18
        }
      ]
    },
    {
      "cell_type": "code",
      "metadata": {
        "id": "ThRAvA7Ix-SV",
        "colab_type": "code",
        "colab": {
          "base_uri": "https://localhost:8080/",
          "height": 34
        },
        "outputId": "75557c8e-6a96-4bc5-abc6-6078ca99a139"
      },
      "source": [
        "# calculo de la media de height de los que no toman cafe\n",
        "cafe_muestra.query('drinks_coffee == False').mean()['height']"
      ],
      "execution_count": 19,
      "outputs": [
        {
          "output_type": "execute_result",
          "data": {
            "text/plain": [
              "66.44198939012445"
            ]
          },
          "metadata": {
            "tags": []
          },
          "execution_count": 19
        }
      ]
    },
    {
      "cell_type": "code",
      "metadata": {
        "id": "IjDJipnNTPGW",
        "colab_type": "code",
        "colab": {
          "base_uri": "https://localhost:8080/",
          "height": 879
        },
        "outputId": "73e776b7-8786-445f-ded8-dbab12bf7b40"
      },
      "source": [
        "# grafiquemos el comportamiento de nuestra varible height\n",
        "\n",
        "import matplotlib.pyplot as plt\n",
        "plt.figure(figsize= (20,15))\n",
        "plt.scatter(x = range(0, len(cafe_muestra.height)), y = cafe_muestra.height, marker = 'o')\n",
        "plt.title(\"Muestra de 200 elementos\")\n",
        "plt.hlines(y = np.mean(cafe_muestra.height), xmin = 0, xmax=200, colors = 'red')\n",
        "# errores de la media\n",
        "plt.hlines(y = np.mean(cafe_muestra.height) +  np.std(cafe_muestra.height)/np.sqrt(200), xmin = 0, xmax=200, colors = 'yellow')\n",
        "plt.hlines(y = np.mean(cafe_muestra.height) -   np.std(cafe_muestra.height)/np.sqrt(200), xmin = 0, xmax=200, colors = 'green')\n",
        "plt.show()"
      ],
      "execution_count": 29,
      "outputs": [
        {
          "output_type": "display_data",
          "data": {
            "image/png": "[encoded data removed]",
            "text/plain": [
              "<Figure size 1440x1080 with 1 Axes>"
            ]
          },
          "metadata": {
            "tags": [],
            "needs_background": "light"
          }
        }
      ]
    },
    {
      "cell_type": "code",
      "metadata": {
        "id": "qiwC0wGLU0H9",
        "colab_type": "code",
        "colab": {
          "base_uri": "https://localhost:8080/",
          "height": 863
        },
        "outputId": "9c5fcfdc-b488-443c-97fd-8be3133c1679"
      },
      "source": [
        "plt.figure(figsize = (20,15))\n",
        "plt.hist(cafe_muestra.height, bins = 200)\n",
        "plt.show()"
      ],
      "execution_count": 32,
      "outputs": [
        {
          "output_type": "display_data",
          "data": {
            "image/png": "[encoded data removed]",
            "text/plain": [
              "<Figure size 1440x1080 with 1 Axes>"
            ]
          },
          "metadata": {
            "tags": [],
            "needs_background": "light"
          }
        }
      ]
    },
    {
      "cell_type": "markdown",
      "metadata": {
        "id": "ZeWf8TziyGW9",
        "colab_type": "text"
      },
      "source": [
        "Después de eso, decidí tomar una muestra [bootstrap](https://economipedia.com/definiciones/bootstrap.html) de 200 filas. Si se da cuenta, le he agregado un parámetro \"replace = True\". Significa que las filas se pueden repetir en la muestra.\n"
      ]
    },
    {
      "cell_type": "code",
      "metadata": {
        "id": "9sZGdEoWyjRN",
        "colab_type": "code",
        "colab": {
          "base_uri": "https://localhost:8080/",
          "height": 34
        },
        "outputId": "97550915-65f3-4ea9-d609-3793ad7ea2b5"
      },
      "source": [
        "bootstrap_muestra = cafe_muestra.sample(n= 200, replace=True)\n",
        "bootstrap_muestra.query(\"drinks_coffee==True\").mean()['height']"
      ],
      "execution_count": 33,
      "outputs": [
        {
          "output_type": "execute_result",
          "data": {
            "text/plain": [
              "68.81190350927005"
            ]
          },
          "metadata": {
            "tags": []
          },
          "execution_count": 33
        }
      ]
    },
    {
      "cell_type": "code",
      "metadata": {
        "id": "DOJb2n8SzAWG",
        "colab_type": "code",
        "colab": {
          "base_uri": "https://localhost:8080/",
          "height": 34
        },
        "outputId": "a48f2245-30f2-46f2-f0f5-a2552f635975"
      },
      "source": [
        "bootstrap_muestra.query(\"drinks_coffee==False\").mean()['height']"
      ],
      "execution_count": 34,
      "outputs": [
        {
          "output_type": "execute_result",
          "data": {
            "text/plain": [
              "66.68084823619535"
            ]
          },
          "metadata": {
            "tags": []
          },
          "execution_count": 34
        }
      ]
    },
    {
      "cell_type": "markdown",
      "metadata": {
        "id": "q72wtMV7zG_s",
        "colab_type": "text"
      },
      "source": [
        "Se observa que la media calculada en cafe_muestra y bootstrap_muestra son diferentes. Solo por el parámetro \"replace = True\".\n",
        "\n",
        "Ahora, usemos bootstrapping para crear muestras 10,000 veces. Y agregue la media de cada muestra en la lista, es decir, bootstrap. Y crea un histograma después de eso.\n",
        "\n"
      ]
    },
    {
      "cell_type": "code",
      "metadata": {
        "id": "XRCGC1VizUtW",
        "colab_type": "code",
        "colab": {}
      },
      "source": [
        "bootstrap = []\n",
        "for i in range(100000):\n",
        "  bootstrap_muestra = cafe.sample(n=200, replace = True)\n",
        "  bootstrap.append(bootstrap_muestra.query('drinks_coffee==False').mean()['height'])\n",
        "  # print(bootstrap)\n",
        "\n",
        "\n"
      ],
      "execution_count": 45,
      "outputs": []
    },
    {
      "cell_type": "code",
      "metadata": {
        "id": "79Aa7-8XWBv3",
        "colab_type": "code",
        "colab": {
          "base_uri": "https://localhost:8080/",
          "height": 265
        },
        "outputId": "325091a5-2b14-4301-d9b1-13934aa5ba64"
      },
      "source": [
        "# Grafiquemos el histograma\n",
        "import matplotlib.pyplot as plt\n",
        "plt.hist(bootstrap, bins= 80)\n",
        "# grafiquemos una linea vertical de color rojo en la media de esa \"casi\" campana\n",
        "plt.vlines(x = np.mean(bootstrap), ymin =0 , ymax = 400)\n",
        "plt.text(x = 66.5, y = 4200, s = \"Tenemos una hipotesis ... \")\n",
        "plt.text(x = 66.5, y = 4000, s = \"Media POblacional \" +  str(np.round(np.mean(bootstrap), decimals= 2)))\n",
        "plt.show()"
      ],
      "execution_count": 47,
      "outputs": [
        {
          "output_type": "display_data",
          "data": {
            "image/png": "[encoded data removed]",
            "text/plain": [
              "<Figure size 432x288 with 1 Axes>"
            ]
          },
          "metadata": {
            "tags": [],
            "needs_background": "light"
          }
        }
      ]
    },
    {
      "cell_type": "markdown",
      "metadata": {
        "id": "rIykhgB61xvl",
        "colab_type": "text"
      },
      "source": [
        "Vayamos ahora a la parte esencial. A partir de ahora, ya hemos creado una distribución de un estadístico, es decir, la media. Pero, cómo construir un intervalo de confianza.\n"
      ]
    },
    {
      "cell_type": "code",
      "metadata": {
        "id": "vO6vJU6S19Jb",
        "colab_type": "code",
        "colab": {
          "base_uri": "https://localhost:8080/",
          "height": 34
        },
        "outputId": "5dfb6d90-971f-4c71-d9bf-f6292c4ae03d"
      },
      "source": [
        "np.percentile(bootstrap, 2.5),  np.percentile(bootstrap, 97.5)"
      ],
      "execution_count": null,
      "outputs": [
        {
          "output_type": "execute_result",
          "data": {
            "text/plain": [
              "(65.7188799914218, 67.18968551580505)"
            ]
          },
          "metadata": {
            "tags": []
          },
          "execution_count": 39
        }
      ]
    },
    {
      "cell_type": "markdown",
      "metadata": {
        "id": "K8IKYZ7S2J46",
        "colab_type": "text"
      },
      "source": [
        "He tomado el percentil 2.5 y 97.5 de los datos del bootstrap. Tenemos valores de 65,99 y 67,58, es decir, tenemos un 95% de probabilidad de que nuestro parámetro se encuentre entre estos dos números.\n",
        "\n",
        "En conclusion : El intervalo de confianza nos permite estimar el parámetro de la población utilizando datos de muestra.\n",
        "\n",
        "Los intervalos de confianza son aplicables durante las pruebas A/B cuando comparamos dos grupos. Si una empresa está buscando una nueva página web, puede compararla con la página anterior que tenía y realizar una prueba. Además, pueden ver qué página genera más tráfico. ¡Y toma una decisión más!\n",
        "\n",
        "Referencia:\n",
        "\n",
        "  * [What is the use of confidence interval?\n",
        "](https://www.quora.com/What-is-the-use-of-confidence-interval)\n",
        "\n"
      ]
    },
    {
      "cell_type": "code",
      "metadata": {
        "id": "bM2kvguGb60w",
        "colab_type": "code",
        "colab": {
          "base_uri": "https://localhost:8080/",
          "height": 34
        },
        "outputId": "6cd322d5-ff1e-46c1-c31b-5bd67e3f9c81"
      },
      "source": [
        "# calculemos la media poblacional \n",
        "\n",
        "np.mean(cafe.height) - np.mean(bootstrap)"
      ],
      "execution_count": 49,
      "outputs": [
        {
          "output_type": "execute_result",
          "data": {
            "text/plain": [
              "1.1554197587743005"
            ]
          },
          "metadata": {
            "tags": []
          },
          "execution_count": 49
        }
      ]
    }
  ]
}