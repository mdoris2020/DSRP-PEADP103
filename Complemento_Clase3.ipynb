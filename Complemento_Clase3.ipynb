{
  "nbformat": 4,
  "nbformat_minor": 0,
  "metadata": {
    "colab": {
      "name": "Ejemplos_Clase3_1.ipynb",
      "provenance": [],
      "collapsed_sections": []
    },
    "kernelspec": {
      "name": "python3",
      "display_name": "Python 3"
    }
  },
  "cells": [
    {
      "cell_type": "markdown",
      "metadata": {
        "id": "PTxyzL1aVsl5",
        "colab_type": "text"
      },
      "source": [
        "# Presentacion : Estadistica Descriptiva\n",
        "\n",
        "La estadística descriptiva es la rama de la estadística que analiza breves coeficientes descriptivos que resumen un conjunto de datos dado. Estos coeficientes se denominan \"estadísticas descriptivas\".\n",
        "\n"
      ]
    },
    {
      "cell_type": "code",
      "metadata": {
        "id": "43Fomc3EZj4u",
        "colab_type": "code",
        "colab": {
          "base_uri": "https://localhost:8080/",
          "height": 72
        },
        "outputId": "576f1ed3-bf5d-4d9c-f0ab-6f3ea73a1e5d"
      },
      "source": [
        "import numpy as np # algebra lineal \n",
        "import matplotlib.pyplot as plt # visualizacion\n",
        "import seaborn as sns # visualizacion\n",
        "import pandas as pd # dataframes \n",
        "\n",
        "import random as rnd\n",
        "import math as m"
      ],
      "execution_count": 2,
      "outputs": [
        {
          "output_type": "stream",
          "text": [
            "/usr/local/lib/python3.6/dist-packages/statsmodels/tools/_testing.py:19: FutureWarning: pandas.util.testing is deprecated. Use the functions in the public API at pandas.testing instead.\n",
            "  import pandas.util.testing as tm\n"
          ],
          "name": "stderr"
        }
      ]
    },
    {
      "cell_type": "markdown",
      "metadata": {
        "id": "s_jk-VFx3Xaj",
        "colab_type": "text"
      },
      "source": [
        "## Ejemplo con iris"
      ]
    },
    {
      "cell_type": "code",
      "metadata": {
        "id": "tyWmhpoDVYJL",
        "colab_type": "code",
        "colab": {
          "base_uri": "https://localhost:8080/",
          "height": 206
        },
        "outputId": "b59d8e01-97a1-4650-ec39-dd09b080eee9"
      },
      "source": [
        "# CArgamos la data\n",
        "iris = sns.load_dataset(\"iris\")\n",
        "\n",
        "# mostramos todos los datasets de ejemplo de seaborn\n",
        "# sns.get_dataset_names()\n",
        "\n",
        "iris.head()"
      ],
      "execution_count": 3,
      "outputs": [
        {
          "output_type": "execute_result",
          "data": {
            "text/html": [
              "<div>\n",
              "<style scoped>\n",
              "    .dataframe tbody tr th:only-of-type {\n",
              "        vertical-align: middle;\n",
              "    }\n",
              "\n",
              "    .dataframe tbody tr th {\n",
              "        vertical-align: top;\n",
              "    }\n",
              "\n",
              "    .dataframe thead th {\n",
              "        text-align: right;\n",
              "    }\n",
              "</style>\n",
              "<table border=\"1\" class=\"dataframe\">\n",
              "  <thead>\n",
              "    <tr style=\"text-align: right;\">\n",
              "      <th></th>\n",
              "      <th>sepal_length</th>\n",
              "      <th>sepal_width</th>\n",
              "      <th>petal_length</th>\n",
              "      <th>petal_width</th>\n",
              "      <th>species</th>\n",
              "    </tr>\n",
              "  </thead>\n",
              "  <tbody>\n",
              "    <tr>\n",
              "      <th>0</th>\n",
              "      <td>5.1</td>\n",
              "      <td>3.5</td>\n",
              "      <td>1.4</td>\n",
              "      <td>0.2</td>\n",
              "      <td>setosa</td>\n",
              "    </tr>\n",
              "    <tr>\n",
              "      <th>1</th>\n",
              "      <td>4.9</td>\n",
              "      <td>3.0</td>\n",
              "      <td>1.4</td>\n",
              "      <td>0.2</td>\n",
              "      <td>setosa</td>\n",
              "    </tr>\n",
              "    <tr>\n",
              "      <th>2</th>\n",
              "      <td>4.7</td>\n",
              "      <td>3.2</td>\n",
              "      <td>1.3</td>\n",
              "      <td>0.2</td>\n",
              "      <td>setosa</td>\n",
              "    </tr>\n",
              "    <tr>\n",
              "      <th>3</th>\n",
              "      <td>4.6</td>\n",
              "      <td>3.1</td>\n",
              "      <td>1.5</td>\n",
              "      <td>0.2</td>\n",
              "      <td>setosa</td>\n",
              "    </tr>\n",
              "    <tr>\n",
              "      <th>4</th>\n",
              "      <td>5.0</td>\n",
              "      <td>3.6</td>\n",
              "      <td>1.4</td>\n",
              "      <td>0.2</td>\n",
              "      <td>setosa</td>\n",
              "    </tr>\n",
              "  </tbody>\n",
              "</table>\n",
              "</div>"
            ],
            "text/plain": [
              "   sepal_length  sepal_width  petal_length  petal_width species\n",
              "0           5.1          3.5           1.4          0.2  setosa\n",
              "1           4.9          3.0           1.4          0.2  setosa\n",
              "2           4.7          3.2           1.3          0.2  setosa\n",
              "3           4.6          3.1           1.5          0.2  setosa\n",
              "4           5.0          3.6           1.4          0.2  setosa"
            ]
          },
          "metadata": {
            "tags": []
          },
          "execution_count": 3
        }
      ]
    },
    {
      "cell_type": "code",
      "metadata": {
        "id": "ElV-aYFTW76-",
        "colab_type": "code",
        "colab": {}
      },
      "source": [
        "iris.shape"
      ],
      "execution_count": null,
      "outputs": []
    },
    {
      "cell_type": "code",
      "metadata": {
        "id": "vc3JIeT0XCAK",
        "colab_type": "code",
        "colab": {}
      },
      "source": [
        "iris.info()\n"
      ],
      "execution_count": null,
      "outputs": []
    },
    {
      "cell_type": "code",
      "metadata": {
        "id": "Xtt7hZD9uzYU",
        "colab_type": "code",
        "colab": {}
      },
      "source": [
        "# VEamos que el data frame esta limpio\n",
        "\n",
        "iris.isnull().sum()"
      ],
      "execution_count": null,
      "outputs": []
    },
    {
      "cell_type": "markdown",
      "metadata": {
        "id": "lHdE8IwsXSC1",
        "colab_type": "text"
      },
      "source": [
        "Aquí voy a detenerme en algunas estadísticas descriptivas utilizando paquetes estadísticos en Python.Veamos solo una característica (\"sepal_length\").\n",
        "\n",
        "\n"
      ]
    },
    {
      "cell_type": "code",
      "metadata": {
        "id": "snWW9qglWqIQ",
        "colab_type": "code",
        "colab": {
          "base_uri": "https://localhost:8080/",
          "height": 206
        },
        "outputId": "d7d3a66f-d5ad-4b66-ff14-9efa29827d1b"
      },
      "source": [
        "# Eliminamos (removemos) la columna \"species\" (No - numerica)\n",
        "X = iris.drop('species',axis=1)\n",
        "\n",
        "# Separamos la variable a analizar : 'sepal_length'\n",
        "x=X['sepal_length']\n",
        "\n",
        "X.head()\n",
        "\n",
        "\n"
      ],
      "execution_count": 6,
      "outputs": [
        {
          "output_type": "execute_result",
          "data": {
            "text/html": [
              "<div>\n",
              "<style scoped>\n",
              "    .dataframe tbody tr th:only-of-type {\n",
              "        vertical-align: middle;\n",
              "    }\n",
              "\n",
              "    .dataframe tbody tr th {\n",
              "        vertical-align: top;\n",
              "    }\n",
              "\n",
              "    .dataframe thead th {\n",
              "        text-align: right;\n",
              "    }\n",
              "</style>\n",
              "<table border=\"1\" class=\"dataframe\">\n",
              "  <thead>\n",
              "    <tr style=\"text-align: right;\">\n",
              "      <th></th>\n",
              "      <th>sepal_length</th>\n",
              "      <th>sepal_width</th>\n",
              "      <th>petal_length</th>\n",
              "      <th>petal_width</th>\n",
              "    </tr>\n",
              "  </thead>\n",
              "  <tbody>\n",
              "    <tr>\n",
              "      <th>0</th>\n",
              "      <td>5.1</td>\n",
              "      <td>3.5</td>\n",
              "      <td>1.4</td>\n",
              "      <td>0.2</td>\n",
              "    </tr>\n",
              "    <tr>\n",
              "      <th>1</th>\n",
              "      <td>4.9</td>\n",
              "      <td>3.0</td>\n",
              "      <td>1.4</td>\n",
              "      <td>0.2</td>\n",
              "    </tr>\n",
              "    <tr>\n",
              "      <th>2</th>\n",
              "      <td>4.7</td>\n",
              "      <td>3.2</td>\n",
              "      <td>1.3</td>\n",
              "      <td>0.2</td>\n",
              "    </tr>\n",
              "    <tr>\n",
              "      <th>3</th>\n",
              "      <td>4.6</td>\n",
              "      <td>3.1</td>\n",
              "      <td>1.5</td>\n",
              "      <td>0.2</td>\n",
              "    </tr>\n",
              "    <tr>\n",
              "      <th>4</th>\n",
              "      <td>5.0</td>\n",
              "      <td>3.6</td>\n",
              "      <td>1.4</td>\n",
              "      <td>0.2</td>\n",
              "    </tr>\n",
              "  </tbody>\n",
              "</table>\n",
              "</div>"
            ],
            "text/plain": [
              "   sepal_length  sepal_width  petal_length  petal_width\n",
              "0           5.1          3.5           1.4          0.2\n",
              "1           4.9          3.0           1.4          0.2\n",
              "2           4.7          3.2           1.3          0.2\n",
              "3           4.6          3.1           1.5          0.2\n",
              "4           5.0          3.6           1.4          0.2"
            ]
          },
          "metadata": {
            "tags": []
          },
          "execution_count": 6
        }
      ]
    },
    {
      "cell_type": "code",
      "metadata": {
        "id": "pU4odGOLYJWP",
        "colab_type": "code",
        "colab": {}
      },
      "source": [
        "# Variable a estudiar : x \n",
        "\n",
        "x.head()\n",
        "\n",
        "# type(x)\n",
        "# dir(x)\n",
        "\n",
        "x[x==5]\n",
        "\n",
        "x[x==5].shape\n",
        "\n",
        "\n",
        "# Algunos calculos para encontrar la moda\n",
        "np.unique(x)\n",
        "Vals , numVals = np.unique(x, return_counts=True)\n",
        "\n",
        "SepalLen = pd.DataFrame({\"Vals\":Vals , \"numVals\":numVals})\n",
        "SepalLen[SepalLen.numVals == np.max(SepalLen.numVals)]"
      ],
      "execution_count": null,
      "outputs": []
    },
    {
      "cell_type": "code",
      "metadata": {
        "id": "J3VtFit9Yzbd",
        "colab_type": "code",
        "colab": {}
      },
      "source": [
        "# Medidas de tendencia central :\n",
        "\n",
        "print(\"\"\"El promedio aritmetico de sepal_length : %.3f \\n \n",
        "La media de  de sepal_length : %.3f \\n\n",
        "La moda de  de sepal_length : %.3f\"\"\"%(x.mean(),np.median(x) , x.mode())\n",
        ")"
      ],
      "execution_count": null,
      "outputs": []
    },
    {
      "cell_type": "code",
      "metadata": {
        "id": "x6e0lnNTZadh",
        "colab_type": "code",
        "colab": {}
      },
      "source": [
        "# Percentiles, deciles, cuartiles \n",
        "\n",
        "Q = np.quantile(x , [0.25,0.5,0.75])\n",
        "\n",
        "P12 = np.quantile(x, 0.12)\n",
        "\n",
        "D50 = np.quantile(x, 0.5)\n"
      ],
      "execution_count": null,
      "outputs": []
    },
    {
      "cell_type": "code",
      "metadata": {
        "id": "E2xv_t6tjLwN",
        "colab_type": "code",
        "colab": {}
      },
      "source": [
        "# Medidas de dispersion:\n",
        "\n",
        "print(\"\"\"\n",
        "La desviacion estandar de sepal_length : %.3f \\n \n",
        "La varianza de  de sepal_length : %.3f \\n\n",
        "El Coeficiente de variacion de  de sepal_length : %.3f %%\"\"\"%(np.std(x), x.var(), np.std(x)/x.mean()*100)\n",
        ")"
      ],
      "execution_count": null,
      "outputs": []
    },
    {
      "cell_type": "code",
      "metadata": {
        "id": "Oadr25AgoPGV",
        "colab_type": "code",
        "colab": {}
      },
      "source": [
        "# Medidas de forma y concentracion\n",
        "\n",
        "print(\"\"\"\n",
        "La kurtosis de sepal_length : %.3f \\n \n",
        "El coeficiente de asimetria de  de sepal_length : %.3f \\n\"\"\"%(x.kurt(), x.skew())\n",
        ")\n",
        "\n"
      ],
      "execution_count": null,
      "outputs": []
    },
    {
      "cell_type": "code",
      "metadata": {
        "id": "suB0gxwtx7ZQ",
        "colab_type": "code",
        "colab": {}
      },
      "source": [
        "x.mode()[0]"
      ],
      "execution_count": null,
      "outputs": []
    },
    {
      "cell_type": "markdown",
      "metadata": {
        "id": "NlfEEJNI3RYJ",
        "colab_type": "text"
      },
      "source": [
        "## Algunos graficos muy intuitivos"
      ]
    },
    {
      "cell_type": "code",
      "metadata": {
        "id": "rTX3CjGNnns5",
        "colab_type": "code",
        "colab": {
          "base_uri": "https://localhost:8080/",
          "height": 323
        },
        "outputId": "4d27947a-544f-43a6-e454-fe4667d8582a"
      },
      "source": [
        "corrmat = iris.corr()\n",
        "sns.heatmap(corrmat, annot = True, square = True);"
      ],
      "execution_count": 4,
      "outputs": [
        {
          "output_type": "display_data",
          "data": {
            "image/png": "[encoded data removed]",
            "text/plain": [
              "<Figure size 432x288 with 2 Axes>"
            ]
          },
          "metadata": {
            "tags": [],
            "needs_background": "light"
          }
        }
      ]
    },
    {
      "cell_type": "code",
      "metadata": {
        "id": "7-nJTuHYp-vq",
        "colab_type": "code",
        "colab": {
          "base_uri": "https://localhost:8080/",
          "height": 459
        },
        "outputId": "37eec77e-ee78-4708-ebb3-65d1674b5195"
      },
      "source": [
        "plt.figure(figsize = (10, 7)) \n",
        "\n",
        "plt.hist(x, bins = 20, color = \"green\") \n",
        "plt.title(\"Sepal Length in cm\") \n",
        "plt.xlabel(\"Sepal_Length_cm\") \n",
        "plt.ylabel(\"Count\") \n",
        "plt.show()"
      ],
      "execution_count": 7,
      "outputs": [
        {
          "output_type": "display_data",
          "data": {
            "image/png": "[encoded data removed]",
            "text/plain": [
              "<Figure size 720x504 with 1 Axes>"
            ]
          },
          "metadata": {
            "tags": [],
            "needs_background": "light"
          }
        }
      ]
    },
    {
      "cell_type": "code",
      "metadata": {
        "id": "07qSzwVVm4Mu",
        "colab_type": "code",
        "colab": {
          "base_uri": "https://localhost:8080/",
          "height": 299
        },
        "outputId": "c7067471-4bda-4493-82b5-f1284f9b92f6"
      },
      "source": [
        "n_bins = 10\n",
        "fig, axs = plt.subplots(2, 2)\n",
        "axs[0,0].hist(X['sepal_length'], bins = n_bins);\n",
        "axs[0,0].set_title('Sepal Length');\n",
        "axs[0,1].hist(X['sepal_width'], bins = n_bins);\n",
        "axs[0,1].set_title('Sepal Width');\n",
        "axs[1,0].hist(X['petal_length'], bins = n_bins);\n",
        "axs[1,0].set_title('Petal Length');\n",
        "axs[1,1].hist(X['petal_width'], bins = n_bins);\n",
        "axs[1,1].set_title('Petal Width');# add some spacing between subplots\n",
        "fig.tight_layout(pad=1.0);"
      ],
      "execution_count": 8,
      "outputs": [
        {
          "output_type": "display_data",
          "data": {
            "image/png": "[encoded data removed]",
            "text/plain": [
              "<Figure size 432x288 with 4 Axes>"
            ]
          },
          "metadata": {
            "tags": [],
            "needs_background": "light"
          }
        }
      ]
    },
    {
      "cell_type": "code",
      "metadata": {
        "id": "sM6tUz2GtJ5F",
        "colab_type": "code",
        "colab": {}
      },
      "source": [
        "\n",
        "plt.figure(figsize = (10, 7)) \n",
        "X.boxplot() \n",
        "plt.show()"
      ],
      "execution_count": null,
      "outputs": []
    },
    {
      "cell_type": "code",
      "metadata": {
        "id": "yF37H7o2wT9K",
        "colab_type": "code",
        "colab": {}
      },
      "source": [
        "plt.figure(figsize=(12,10))\n",
        "plt.subplot(2,2,1)\n",
        "sns.boxplot(x=\"species\",y=\"sepal_length\",data=iris)\n",
        "plt.subplot(2,2,2)\n",
        "sns.boxplot(x=\"species\",y=\"sepal_width\",data=iris)\n",
        "plt.subplot(2,2,3)\n",
        "sns.boxplot(x=\"species\",y=\"petal_length\",data=iris)\n",
        "plt.subplot(2,2,4)\n",
        "sns.boxplot(x=\"species\",y=\"petal_width\",data=iris)\n",
        "plt.show()"
      ],
      "execution_count": null,
      "outputs": []
    },
    {
      "cell_type": "code",
      "metadata": {
        "id": "oaFWOR9Pvx7c",
        "colab_type": "code",
        "colab": {}
      },
      "source": [
        "plt.figure(figsize=(12,10))\n",
        "plt.subplot(2,2,1)\n",
        "sns.violinplot(x=\"species\",y=\"sepal_length\",data=iris)\n",
        "plt.subplot(2,2,2)\n",
        "sns.violinplot(x=\"species\",y=\"sepal_width\",data=iris)\n",
        "plt.subplot(2,2,3)\n",
        "sns.violinplot(x=\"species\",y=\"petal_length\",data=iris)\n",
        "plt.subplot(2,2,4)\n",
        "sns.violinplot(x=\"species\",y=\"petal_width\",data=iris)\n",
        "plt.show()"
      ],
      "execution_count": null,
      "outputs": []
    },
    {
      "cell_type": "code",
      "metadata": {
        "id": "PvqSXcCNvAfL",
        "colab_type": "code",
        "colab": {}
      },
      "source": [
        "sns.FacetGrid(iris,hue=\"species\").map(plt.scatter,\"sepal_length\",\"sepal_width\").add_legend()\n",
        "plt.show()"
      ],
      "execution_count": null,
      "outputs": []
    },
    {
      "cell_type": "code",
      "metadata": {
        "id": "bi9R1-wTvnja",
        "colab_type": "code",
        "colab": {}
      },
      "source": [
        "sns.FacetGrid(iris,hue=\"species\").map(plt.scatter,\"petal_length\",\"petal_width\").add_legend()\n",
        "plt.show()"
      ],
      "execution_count": null,
      "outputs": []
    },
    {
      "cell_type": "code",
      "metadata": {
        "id": "LtVMsRWMoG_G",
        "colab_type": "code",
        "colab": {}
      },
      "source": [
        "sns.pairplot(iris, hue=\"species\", height = 2, palette = 'colorblind');"
      ],
      "execution_count": null,
      "outputs": []
    },
    {
      "cell_type": "code",
      "metadata": {
        "id": "s0poiug0uFEx",
        "colab_type": "code",
        "colab": {}
      },
      "source": [
        "# Veamos la distribucion de esta variables : media, mediana , moda, boxplot y su distribucion\n",
        "\n",
        "plt.rcParams['figure.figsize'] = (14,10)\n",
        "\n",
        "f, (ax_box, ax_hist) = plt.subplots(2, sharex=True, gridspec_kw= {\"height_ratios\": (0.2, 1.5)})\n",
        "\n",
        "sns.boxplot(x, ax=ax_box)\n",
        "ax_box.axvline(x.mean(), color='r', linestyle='--')\n",
        "ax_box.axvline(np.median(x), color='g', linestyle='-')\n",
        "ax_box.axvline(x.mode()[0], color='b', linestyle='-')\n",
        "\n",
        "sns.distplot(x, ax=ax_hist )\n",
        "ax_hist.axvline(x.mean(), color='r', linestyle='--')\n",
        "ax_hist.axvline(np.median(x), color='g', linestyle='-')\n",
        "ax_hist.axvline(x.mode()[0], color='b', linestyle='-')\n",
        "\n",
        "plt.legend({'Media Arit.':x.mean(),'Mediana':np.median(x),'Moda':x.mode()[0]})\n",
        "\n",
        "ax_box.set(xlabel=' ')\n",
        "plt.xlabel('Var. Name : ' + x.name)\n",
        "plt.title('Distribucion de ' + x.name, y = 1.3,size = 22)\n",
        "plt.show()"
      ],
      "execution_count": null,
      "outputs": []
    },
    {
      "cell_type": "code",
      "metadata": {
        "id": "5MF5khEp2VzK",
        "colab_type": "code",
        "colab": {}
      },
      "source": [
        "f, (ax_box, ax_hist) = plt.subplots(2, sharex=True, gridspec_kw= {\"height_ratios\": (0.2, 1)})\n",
        "\n",
        "Q1, Q2, Q3 = np.quantile(x , [0.25,0.5,0.75])\n",
        "\n",
        "sns.boxplot(x, ax=ax_box)\n",
        "ax_box.axvline(Q1, color='r', linestyle='--')\n",
        "ax_box.axvline(Q2, color='g', linestyle='-')\n",
        "ax_box.axvline(Q3, color='b', linestyle='-')\n",
        "\n",
        "sns.distplot(x, ax=ax_hist)\n",
        "ax_hist.axvline(Q1, color='r', linestyle='--')\n",
        "ax_hist.axvline(Q2, color='g', linestyle='-')\n",
        "ax_hist.axvline(Q3, color='b', linestyle='-')\n",
        "\n",
        "plt.legend({'Q1':Q1,'Q2':Q2,'Q3':Q3})\n",
        "\n",
        "ax_box.set(xlabel='')\n",
        "plt.show()"
      ],
      "execution_count": null,
      "outputs": []
    },
    {
      "cell_type": "markdown",
      "metadata": {
        "id": "hHNBA-_g3Kxh",
        "colab_type": "text"
      },
      "source": [
        "**Las estadísticas descriptivas se utilizan para describir las características básicas de los datos en un estudio. Proporcionan resúmenes simples sobre los datos y, junto con un análisis gráfico simple, forman la base de cada análisis estadístico y de aprendizaje automático.**"
      ]
    }
  ]
}