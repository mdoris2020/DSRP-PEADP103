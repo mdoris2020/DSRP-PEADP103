{
  "nbformat": 4,
  "nbformat_minor": 0,
  "metadata": {
    "colab": {
      "name": "Clase5_19sept_TCL",
      "provenance": [],
      "collapsed_sections": [
        "Qh6ns7_6FBh5"
      ],
      "toc_visible": true
    },
    "kernelspec": {
      "name": "python3",
      "display_name": "Python 3"
    }
  },
  "cells": [
    {
      "cell_type": "markdown",
      "metadata": {
        "id": "Qh6ns7_6FBh5",
        "colab_type": "text"
      },
      "source": [
        "# La desigualdad de [Chebyshev](https://medium.com/analytics-vidhya/illustration-with-python-chebyshevs-inequality-b34be151c547)\n",
        "\n",
        "La desigualdad de Chebyshev es un teorema extremadamente útil cuando se combina con otros teoremas y es la base del intervalo de confianza. En este blog, ilustraré el teorema y cómo funciona usando Python.\n",
        "\n",
        "Antes de empezar a codificar, veamos el teorema. La desigualdad de Chebyshev establece que, para una amplia clase de distribución de probabilidad, no más de una cierta cantidad de valores puede estar a más de una cierta distancia de la media, con la fórmula siguiente.\n",
        "\n",
        "![](https://miro.medium.com/max/321/1*DJqMc1N7D9zgMdR78tr8Fw.jpeg)\n",
        "\n",
        "Donde X es una variable aleatoria, μ es un valor esperado de X, σ es una desviación estándar de X y k > 0 (un valor constante).\n",
        "\n",
        "Por ejemplo, la probabilidad de que la distancia al valor esperado sea mayor de 3 desviaciones estándar es menor o igual que uno sobre nueve.\n",
        "\n",
        "![](https://miro.medium.com/max/335/1*QjRmtedHI3pQjGmfsjEtWg.jpeg)\n",
        "\n",
        "Según las formulas antereiores, si k aumenta, la probabilidad disminuirá. Ilustraré el teorema usando Python, pero no lo usaré para la fórmula, sino que usaré Python para crear una población y mostrar cómo funciona el teorema.\n",
        "\n"
      ]
    },
    {
      "cell_type": "code",
      "metadata": {
        "id": "zjW3eCH_Gykf",
        "colab_type": "code",
        "cellView": "both",
        "colab": {}
      },
      "source": [
        "# Primer paso: Cree una población de 1,000,000 de valores, yo uso una distribución gamma \n",
        "# con shape = 2 y scale = 2.\n",
        "# Notar que el teorema también funciona con otra distribución, como la distribución uniforme.\n",
        "\n",
        "\n"
      ],
      "execution_count": 1,
      "outputs": []
    },
    {
      "cell_type": "code",
      "metadata": {
        "id": "YgZJhAMnHelY",
        "colab_type": "code",
        "cellView": "both",
        "colab": {}
      },
      "source": [
        "# 2do paso : tomemos una muestra de 10000 valores\n",
        "\n",
        "\n"
      ],
      "execution_count": 2,
      "outputs": []
    },
    {
      "cell_type": "code",
      "metadata": {
        "id": "o0molY4gIIdl",
        "colab_type": "code",
        "cellView": "both",
        "colab": {}
      },
      "source": [
        "# 3er Paso : Cuente la muestra que tiene una distancia del valor esperado mayor que k desviación estándar \n",
        "# y use el conteo para calcular las probabilidades. Quiero representar una tendencia de probabilidades cuando\n",
        "# k aumenta, por lo que uso un rango de k de 0.1 a 3.\n",
        "\n"
      ],
      "execution_count": 3,
      "outputs": []
    },
    {
      "cell_type": "code",
      "metadata": {
        "id": "4OP-p4pZIUN1",
        "colab_type": "code",
        "cellView": "both",
        "colab": {}
      },
      "source": [
        "# 4to paso : Graficamos e imprimimos el resultado \n"
      ],
      "execution_count": 4,
      "outputs": []
    },
    {
      "cell_type": "markdown",
      "metadata": {
        "id": "NiLnRzMuJrz6",
        "colab_type": "text"
      },
      "source": [
        "A partir de la gráfica y el resultado, podemos ver que a medida que aumenta k, la probabilidad disminuye y la probabilidad de cada k sigue a la desigualdad. Además, solo es útil el caso de que k sea mayor que 1. Si k es menor que 1, el lado derecho de la desigualdad es mayor que 1, lo cual no es útil porque la probabilidad no puede ser mayor que 1.\n",
        "\n",
        "Podemos usar la desigualdad de Chebyshev en muchas aplicaciones, podemos estimar una probabilidad de que los datos caigan en un rango de k desviaciones estándar. Por ejemplo, existe un 90% de probabilidad de que la siguiente muestra esté dentro de un rango de 3 desviaciones estándar."
      ]
    },
    {
      "cell_type": "markdown",
      "metadata": {
        "id": "8bhyVEzECm9j",
        "colab_type": "text"
      },
      "source": [
        "# Ley debil de los grandes numeros\n",
        "\n",
        "La ley débil de los grandes numeros establece que con un número suficientemente mayor de ensayos hay una probabilidad muy alta de que la media de observación se acerque al valor esperado. En otras palabras, a medida que el número de ensayos llega al infinito, la media de la observación converge a un valor esperado con una probabilidad muy alta.\n",
        "\n",
        "![](https://miro.medium.com/max/379/1*D8IJGKIDItwMUYZ7eL_lCQ.jpeg)\n",
        "\n",
        "Donde Xn es la media de n ensayos, μ es un valor esperado, ε es un margen de error mayor que 0. El detalle completo del teorema se puede encontrar en la [wikipedia](https://en.wikipedia.org/wiki/Law_of_large_numbers)"
      ]
    },
    {
      "cell_type": "code",
      "metadata": {
        "id": "jgdG2hhBCh5U",
        "colab_type": "code",
        "cellView": "both",
        "colab": {}
      },
      "source": [
        "# paso 1 : Cree una distribución gamma con shape = 2 y scale = 2 como población.\n"
      ],
      "execution_count": null,
      "outputs": []
    },
    {
      "cell_type": "code",
      "metadata": {
        "id": "miGGty6iOse9",
        "colab_type": "code",
        "cellView": "both",
        "colab": {}
      },
      "source": [
        "# paso 2 : Establezca un tamaño de muestra en 100 al principio, muestree 50 veces y obtenga una media de cada vez,\n",
        "# luego aumente el tamaño de la muestra en 500, repita estos pasos hasta que el tamaño de la muestra alcance los 8100.\n"
      ],
      "execution_count": null,
      "outputs": []
    },
    {
      "cell_type": "code",
      "metadata": {
        "id": "ImBwA2GkPXgT",
        "colab_type": "code",
        "colab": {}
      },
      "source": [
        "# Paso 3 : grafiquemos un boxplot para cada tamaño de muestra\n",
        "\n",
        "\n",
        "\n",
        "\n"
      ],
      "execution_count": null,
      "outputs": []
    },
    {
      "cell_type": "markdown",
      "metadata": {
        "id": "DenQFHhYSsZa",
        "colab_type": "text"
      },
      "source": [
        "En la gráfica, podemos ver que a medida que aumenta el tamaño de la muestra, las distribuciones de la media muestral disminuyen y se centran en torno a un valor esperado."
      ]
    },
    {
      "cell_type": "code",
      "metadata": {
        "id": "8JxYEmuJStFs",
        "colab_type": "code",
        "colab": {}
      },
      "source": [
        "# Mostramos media y desviacion estandar : para  las muestras de tamaño 100 y de tamaño 8100\n"
      ],
      "execution_count": null,
      "outputs": []
    },
    {
      "cell_type": "code",
      "metadata": {
        "id": "S34Cln5TTCsY",
        "colab_type": "code",
        "colab": {}
      },
      "source": [
        "# Veamos unos histogramas de la muestra de 100 elementos y de la muestra de 8100 elementos\n"
      ],
      "execution_count": null,
      "outputs": []
    },
    {
      "cell_type": "markdown",
      "metadata": {
        "id": "eHQOZEXaTdkD",
        "colab_type": "text"
      },
      "source": [
        "Una última cosa, lo que debe tomar de este notebook es el hecho de que el tamaño de la muestra tiene un efecto enorme en la precisión de las medias de la muestra con los valores esperados. Si su estudio tiene un tamaño de muestra grande, la media de su muestra estará cerca de la media de la población."
      ]
    },
    {
      "cell_type": "markdown",
      "metadata": {
        "id": "5MGGCpS0TyMh",
        "colab_type": "text"
      },
      "source": [
        "# Teorema del limite central \n",
        "\n",
        "Referencias :\n",
        "\n",
        "  * [Teoremas del límite.](https://personal.us.es/bassas/doc/pdf/mmi/temas/Tema11.pdf)\n",
        "  * [Teorema Central del Límite](https://www.cimat.mx/~jortega/MaterialDidactico/EPyE10/Cap7LaV2.pdf)\n",
        "  * [Limit theorems](http://www.cse.cuhk.edu.hk/~syzhang/course/Prob17/ch5.pdf)\n",
        "  * [Law of Large Numbers](https://www.dartmouth.edu/~chance/teaching_aids/books_articles/probability_book/Chapter8.pdf)\n",
        "\n",
        "Bibliografia :\n",
        "\n",
        "  * [Probability Through Problems\n",
        "](https://link.springer.com/book/10.1007/978-0-387-21659-1)\n",
        "\n",
        "El teorema del límite central es un teorema fundamental de probabilidad y estadística. El teorema describe la distribución de la media de una muestra aleatoria proveniente de una población con varianza finita. Cuando el tamaño de la muestra es lo suficientemente grande, la distribución de las medias sigue aproximadamente una distribución normal. El teorema se aplica independientemente de la forma de la distribución de la población. Muchos procedimientos estadísticos comunes requieren que los datos sean aproximadamente normales. El teorema de límite central le permite aplicar estos procedimientos útiles a poblaciones que son considerablemente no normales. El tamaño que debe tener la muestra depende de la forma de la distribución original. Si la distribución de la población es simétrica, un tamaño de muestra de 5 podría producir una aproximación adecuada. Si la distribución de la población es considerablemente asimétrica, es necesario un tamaño de muestra más grande. Por ejemplo, la distribución de la media puede ser aproximadamente normal si el tamaño de la muestra es mayor que 50. Las siguientes gráficas muestran ejemplos de cómo la distribución afecta el tamaño de la muestra que se necesita.\n",
        "\n",
        "## Muestras de una población uniforme\n",
        "Una población que sigue una distribución uniforme es simétrica, pero marcadamente no normal, como lo demuestra el primer histograma. Sin embargo, la distribución de las medias de 1000 muestras de tamaño 5 de esta población es aproximadamente normal debido al teorema del límite central, como lo demuestra el segundo histograma. Este histograma de las medias de las muestras incluye una curva normal superpuesta para ilustrar esta normalidad.\n",
        "\n",
        "![](https://support.minitab.com/es-mx/minitab/18/central_limit_theorem_images_uniform_1.png) ![](https://support.minitab.com/es-mx/minitab/18/central_limit_theorem_images_uniform_subgroups_2.png)\n",
        "\n",
        "## Muestras de una población exponencial\n",
        "Una población que sigue una distribución exponencial es asimétrica y no normal, como lo demuestra el primer histograma. Sin embargo, la distribución de las medias de 1000 muestras de tamaño 50 de esta población es aproximadamente normal debido al teorema del límite central, como lo demuestra el segundo histograma. Este histograma de las medias de las muestras incluye una curva normal superpuesta para ilustrar esta normalidad.\n",
        "\n",
        "![](https://support.minitab.com/es-mx/minitab/18/central_limit_theorem_images_exponential_3.png)![](https://support.minitab.com/es-mx/minitab/18/central_limit_theorem_images_exponential_subgroups_4.png)\n",
        "\n",
        "**Usaremos Python para demostrar el teorema con los siguientes pasos**"
      ]
    },
    {
      "cell_type": "code",
      "metadata": {
        "id": "7TXH64HsYdp6",
        "colab_type": "code",
        "colab": {}
      },
      "source": [
        "# Paso 1\n",
        "# Cree una población de 1000000 de valores, utilizo una distribución gamma con shape = 2 y scale = 2\n",
        "# para mostrar que el teorema funciona con una distribución no normal\n",
        "\n",
        "\n"
      ],
      "execution_count": null,
      "outputs": []
    },
    {
      "cell_type": "code",
      "metadata": {
        "id": "NUK6PCQZY4NP",
        "colab_type": "code",
        "colab": {}
      },
      "source": [
        "# Paso 2\n",
        "# Tomemos una muestra de la distribución gamma con un tamaño de muestra de 500, calculamos la media y repita\n",
        "# el paso 1000 veces (este es un número de muestreo). Repito este paso pero aumento el número de muestreos\n",
        "# hasta que el número sea 50.000 veces.\n"
      ],
      "execution_count": null,
      "outputs": []
    },
    {
      "cell_type": "code",
      "metadata": {
        "id": "V1Tj4inyZXwf",
        "colab_type": "code",
        "colab": {}
      },
      "source": [
        "# paso 3\n",
        "# graficamos cada media muestral\n"
      ],
      "execution_count": null,
      "outputs": []
    },
    {
      "cell_type": "markdown",
      "metadata": {
        "id": "byHqWsKfZqNI",
        "colab_type": "text"
      },
      "source": [
        "Podemos ver en los gráficos que a medida que aumenta el número de muestras, la distribución se vuelve más suave. Este teorema es extremadamente poderoso porque podemos aplicarlo a cualquier población, por lo que si tenemos herramientas para trabajar con distribución normal, podemos usar esa herramienta con la media muestral de cualquier distribución, como calcular la probabilidad usando un área bajo una curva normal."
      ]
    },
    {
      "cell_type": "markdown",
      "metadata": {
        "id": "er3zVQPBZzba",
        "colab_type": "text"
      },
      "source": [
        "## Estandarizar/Normalizar la media muestral\n",
        "\n",
        "Podemos cambiar la distribución de la media de la muestra a una distribución normal estándar restando cada media de la muestra con un valor esperado y dividiéndola por una desviación estándar.\n",
        "\n",
        "Veamos esto en codigo "
      ]
    },
    {
      "cell_type": "code",
      "metadata": {
        "id": "JAgqBdZiZ7DA",
        "colab_type": "code",
        "colab": {}
      },
      "source": [
        "# paso 1 :\n",
        "# Usando la distribución del último muestreo\n"
      ],
      "execution_count": null,
      "outputs": []
    },
    {
      "cell_type": "code",
      "metadata": {
        "id": "xpkLpIQaaEs8",
        "colab_type": "code",
        "colab": {}
      },
      "source": [
        "# Paso 2 : \n",
        "# Calcule la media y la desviación estándar de la media muestral.\n"
      ],
      "execution_count": null,
      "outputs": []
    },
    {
      "cell_type": "code",
      "metadata": {
        "id": "U5mKYBbZaNIW",
        "colab_type": "code",
        "colab": {}
      },
      "source": [
        "# Paso 3 :\n",
        "# Reste cada valor por la media y divídalo por la desviación estándar, de modo \n",
        "# que la media y la desviación estándar de la media de la muestra sea 0, 1 respectivamente.\n"
      ],
      "execution_count": null,
      "outputs": []
    },
    {
      "cell_type": "code",
      "metadata": {
        "id": "3NPnUvLpaYE0",
        "colab_type": "code",
        "colab": {}
      },
      "source": [
        "# paso 4 :\n",
        "# mostramos el resultado \n"
      ],
      "execution_count": null,
      "outputs": []
    },
    {
      "cell_type": "markdown",
      "metadata": {
        "id": "7rPEaXf4auLr",
        "colab_type": "text"
      },
      "source": [
        "Una de las razones por las que estandarizamos la media muestral es la complejidad de una función de distribución normal. Tenemos que integrar la función complicada que puede llevar horas hacer, así que en su lugar, estandarizamos la distribución y usamos la tabla Z para encontrar un área debajo de la función."
      ]
    },
    {
      "cell_type": "markdown",
      "metadata": {
        "id": "gGl8Uhc9bO18",
        "colab_type": "text"
      },
      "source": [
        "## Tamaño de la muestra\n",
        "\n",
        "La regla general del tamaño de la muestra es que debe ser mayor que 30 para que la media de la muestra se distribuya normalmente. Sin embargo, el teorema sigue funcionando si el tamaño de la muestra es inferior a 30 pero la población está distribuida normalmente. Ilustraré lo que sucederá si el tamaño de la muestra es menor que 30, 30 y mayor que 30.\n"
      ]
    },
    {
      "cell_type": "code",
      "metadata": {
        "id": "l1BG74BmcOxp",
        "colab_type": "code",
        "colab": {}
      },
      "source": [
        "# paso 1\n",
        "# Muestra de la misma distribución gamma con 1 tamaño de muestra, calcule la media y \n",
        "# repita el paso 25.000 veces. Repito este paso pero aumento el tamaño de la muestra \n",
        "# hasta que alcance el tamaño de 1000 muestras.\n"
      ],
      "execution_count": null,
      "outputs": []
    },
    {
      "cell_type": "code",
      "metadata": {
        "id": "YU5jrXKNcivR",
        "colab_type": "code",
        "colab": {}
      },
      "source": [
        "# paso 2 \n",
        "# Grafiquemos la media de cada muestra\n"
      ],
      "execution_count": null,
      "outputs": []
    },
    {
      "cell_type": "markdown",
      "metadata": {
        "id": "hOZJKKRXcxl9",
        "colab_type": "text"
      },
      "source": [
        "A partir del gráfico, la distribución del tamaño de la muestra que es menor a 30 no se distribuye normalmente.\n",
        "\n",
        "La idea es combinar este teorema con la desigualdad de Chebyshev y la ley débil de los números grandes, pero antes de ir allí, veamos el valor esperado y la desviación estándar de las medias muestrales."
      ]
    },
    {
      "cell_type": "markdown",
      "metadata": {
        "id": "kYwL93_5c8iD",
        "colab_type": "text"
      },
      "source": [
        "## El valor esperado y la desviación estándar de las medias muestrales.\n",
        "\n",
        "Suponga que X es una variable aleatoria independiente e idéntica distribuida con el valor esperado μ y la desviación estándar σ. Si tomamos una muestra de la muestra Xn, la expectativa y la varianza de X serán las siguientes.\n",
        "\n",
        "![](https://miro.medium.com/max/437/1*ott3FA9HNRWCATfH-81GbA.jpeg)![](https://miro.medium.com/max/564/1*otR7TN90Sv2zCEQGuQjj-Q.jpeg)\n",
        "\n",
        "Donde n es el tamaño de la muestra, n = 10 significa que usamos 10 datos y la media de la muestra es un promedio de 10 datos, el valor esperado y la varianza se pueden calcular como se indicó anteriormente.\n",
        "\n",
        "\n"
      ]
    },
    {
      "cell_type": "code",
      "metadata": {
        "id": "Yq0kBWN0cq53",
        "colab_type": "code",
        "colab": {}
      },
      "source": [
        "## expect value of sample\n"
      ],
      "execution_count": null,
      "outputs": []
    },
    {
      "cell_type": "markdown",
      "metadata": {
        "id": "RGEQnKY4dkzs",
        "colab_type": "text"
      },
      "source": [
        "Este es el resultado del código anterior. Si dividimos la desviación estándar de la población por la raíz cuadrada de n, el resultado estará cerca de una desviación estándar de la media muestral.\n"
      ]
    },
    {
      "cell_type": "markdown",
      "metadata": {
        "id": "g1Gz8lRVdoE5",
        "colab_type": "text"
      },
      "source": [
        "Sin embargo, se siente un poco contradictorio porque cómo una muestra puede tener una expectativa y una variación, es solo un número. Bueno, piense en esto, suponga que le pido que muestre la altura de un estudiante en una escuela, tendrá que golpear a todos los salones y elegir 1 estudiante en el salón. Antes de entrar al salón, ¿cuál es su expectativa de la altura del estudiante que elegirá? No lo sabes, ¿verdad? Entonces, ¿qué pasa si les digo que la altura promedio de los estudiantes en esta escuela es de 5 pies con una variación de 4 pulgadas? Ahora, su expectativa de la altura de un estudiante antes de elegir uno de ellos debe ser de 5 pies con una variación de 4 pulgadas. Si elige 10 estudiantes, la expectativa de la altura de esos estudiantes sería la suma de las expectativas de cada estudiante, que es lo mismo con el valor 5 pies, dividido por el número de estudiantes. Por lo tanto, intente pensar en una muestra como una variable aleatoria, no como un número.\n",
        "\n",
        "Otra cosa que quiero mencionar es, según la fórmula, cuando el tamaño de la muestra aumenta, la varianza de la media de la muestra será menor, por lo que la varianza de la media de la muestra dependerá del tamaño de la muestra. Si la muestra es lo suficientemente grande, la media muestral estará cerca de su expectativa."
      ]
    },
    {
      "cell_type": "markdown",
      "metadata": {
        "id": "FvG7bQKheEXk",
        "colab_type": "text"
      },
      "source": [
        "## Convergencia en medias muestrales\n",
        "\n",
        "La desigualdad de Chebyshev funciona con una amplia clase de distribución de probabilidad y también funciona con una distribución normal. Podemos cambiar la desigualdad para trabajar con la media muestral de la siguiente manera.\n",
        "\n",
        "![](https://miro.medium.com/max/645/1*hQWDcuhgeQn0QlRGPgF0Hg.jpeg)\n",
        "\n",
        "Donde X barra es una media de la muestra, μ son los valores esperados de una media de la muestra, ε es el margen de error que es mayor que 0, σ es una desviación estándar de la población y n es un tamaño de muestra.\n",
        "\n",
        "Usando la ley débil de números más grandes y esta fórmula, si el tamaño de la muestra llega al infinito, la probabilidad de que la diferencia entre la media de la muestra y el valor esperado sea mayor que un margen de error converge a cero.\n",
        "\n",
        "**Usaré Python para mostrar el hecho de que a medida que aumenta el tamaño de la muestra, la media de la muestra se acerca más al valor esperado en el siguiente paso.**"
      ]
    },
    {
      "cell_type": "code",
      "metadata": {
        "id": "ZQcqkJe3dm-0",
        "colab_type": "code",
        "colab": {}
      },
      "source": [
        "# paso 1 :\n",
        "#Utilice la misma distribución gamma para la población\n",
        "\n",
        "\n",
        "\n"
      ],
      "execution_count": null,
      "outputs": []
    },
    {
      "cell_type": "code",
      "metadata": {
        "id": "J_mUrqmQepgF",
        "colab_type": "code",
        "colab": {}
      },
      "source": [
        "# Paso 2 :\n",
        "# Muestree de la población usando un tamaño de muestra de 10 a 20,000 paso por 20, luego calcule la diferencia entre\n",
        "# la media de la muestra y la media de la población.\n"
      ],
      "execution_count": null,
      "outputs": []
    },
    {
      "cell_type": "code",
      "metadata": {
        "id": "Dz9IE2hNe0Q0",
        "colab_type": "code",
        "colab": {}
      },
      "source": [
        "# Paso 3 \n",
        "# grafiquemos estas diferencias\n"
      ],
      "execution_count": null,
      "outputs": []
    },
    {
      "cell_type": "markdown",
      "metadata": {
        "id": "brIZLeUffANJ",
        "colab_type": "text"
      },
      "source": [
        "Podemos ver que a medida que aumenta el tamaño de la muestra, la diferencia disminuye.\n",
        "\n",
        "También podemos usar la fórmula para encontrar un tamaño de muestra que pueda mantener un error de la media de la muestra dentro de un rango. Por ejemplo, si queremos que nuestra muestra tenga un error del 1% con una probabilidad del 95%, podemos establecer una desigualdad para que sea así.\n",
        "\n",
        "![](https://miro.medium.com/max/474/1*QqtaSV0ii9npUSXSPoSAeQ.jpeg)\n",
        "\n",
        "Trazaré otro gráfico para mostrar que la probabilidad de que la diferencia de las medias muestrales y la expectativa sea mayor de que el error disminuya a medida que aumenta el tamaño de la muestra.\n",
        "\n",
        "\n"
      ]
    },
    {
      "cell_type": "code",
      "metadata": {
        "id": "BuLiWTNDfWyK",
        "colab_type": "code",
        "colab": {}
      },
      "source": [
        "# PAso 1\n",
        "# Utilice la misma distribución gamma para la  población y establezca el error en 0,05.\n"
      ],
      "execution_count": null,
      "outputs": []
    },
    {
      "cell_type": "code",
      "metadata": {
        "id": "GnF8TS2WfrvN",
        "colab_type": "code",
        "colab": {}
      },
      "source": [
        "# Paso2 :\n",
        "# Muestre de la población 100 veces usando un tamaño de muestra de 100 a 10100, paso por 500, luego\n",
        "# cuente la muestra que tiene las diferencias de valor medio y esperado mayores que el error.\n",
        "\n",
        "# paso 3 \n",
        "#Calcule  la probabilidad de cada tamaño de muestra y agregue la gráfica de probabilidad\n"
      ],
      "execution_count": null,
      "outputs": []
    },
    {
      "cell_type": "code",
      "metadata": {
        "id": "1X11ksDzgHdW",
        "colab_type": "code",
        "colab": {}
      },
      "source": [
        "# paso 4 :\n",
        "# graficar las probabilidades\n"
      ],
      "execution_count": null,
      "outputs": []
    },
    {
      "cell_type": "markdown",
      "metadata": {
        "id": "bISXfP6NgOpP",
        "colab_type": "text"
      },
      "source": [
        "Las cosas que debes resaltar de este notebook son:\n",
        "\n",
        "  * La media de la muestra será una distribución normal independientemente de la media de la población.\n",
        "\n",
        "  * A medida que aumenta el tamaño de la muestra, la varianza de la media muestral se reduce.\n",
        "\n",
        "  * Por lo tanto, la probabilidad de que la media de la muestra esté lejos de la expectativa también disminuye a medida que aumenta el tamaño de la muestra.\n",
        "\n"
      ]
    }
  ]
}